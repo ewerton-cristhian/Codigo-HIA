{
 "cells": [
  {
   "cell_type": "markdown",
   "metadata": {},
   "source": [
    "# Model Selection of RF in Intestinal Absortion Prediction\n",
    "\n",
    "This section presents the model selection of Random Forest in Intestinal Absortition Prediction."
   ]
  },
  {
   "cell_type": "code",
   "execution_count": 1,
   "metadata": {},
   "outputs": [],
   "source": [
    "import pandas as pd\n",
    "import numpy as np\n",
    "import seaborn as sns\n",
    "import matplotlib.pyplot as plt\n",
    "\n",
    "%matplotlib inline"
   ]
  },
  {
   "cell_type": "code",
   "execution_count": 2,
   "metadata": {},
   "outputs": [],
   "source": [
    "from sklearn.model_selection import train_test_split\n",
    "from sklearn.preprocessing import MinMaxScaler, StandardScaler\n",
    "import joblib"
   ]
  },
  {
   "cell_type": "code",
   "execution_count": 3,
   "metadata": {},
   "outputs": [],
   "source": [
    "from sklearn.ensemble import RandomForestClassifier\n",
    "from sklearn.model_selection import GridSearchCV "
   ]
  },
  {
   "cell_type": "markdown",
   "metadata": {},
   "source": [
    "### Importing Dataset for training\n",
    "\n",
    "\n",
    "- FC-1: NHA, LogP, MolWt, NAR, NRB, tPSA, NHD, fcSP3\n",
    "- FC-2: NHA, LogP, tPSA"
   ]
  },
  {
   "cell_type": "code",
   "execution_count": 4,
   "metadata": {},
   "outputs": [],
   "source": [
    "#Data_Train = joblib.load('./Dataset_Training_Test/Data_Train.pkl')\n",
    "\n",
    "Data = pd.read_excel('dataset_HIA_geral.xlsx')"
   ]
  },
  {
   "cell_type": "code",
   "execution_count": 5,
   "metadata": {},
   "outputs": [],
   "source": [
    "FC = 2\n",
    "\n",
    "if FC == 1:\n",
    "    X_Train = Data.drop(['Name','SMILES','Output'], axis=1)[0:140].values\n",
    "    X_Test = Data.drop(['Name','SMILES','Output'], axis=1)[140:].values\n",
    "    \n",
    "else:\n",
    "    X_Train = Data[['WLOGP','tPSA','NHA']][0:140].values #,'NHA'\n",
    "    X_Test = Data[['WLOGP','tPSA','NHA']][140:].values\n",
    "    \n",
    "\n",
    "y_Train = Data[['Output']][0:140].values.ravel()\n",
    "y_Test = Data[['Output']][140:].values.ravel()"
   ]
  },
  {
   "cell_type": "code",
   "execution_count": 6,
   "metadata": {},
   "outputs": [],
   "source": [
    "# Scaling data\n",
    "\n",
    "Scaler = MinMaxScaler().fit(X_Train)\n",
    "\n",
    "X_train = Scaler.transform(X_Train)  \n",
    "X_test = Scaler.transform(X_Test)  \n"
   ]
  },
  {
   "cell_type": "code",
   "execution_count": 7,
   "metadata": {},
   "outputs": [
    {
     "data": {
      "text/plain": [
       "['./Model_RF_FC2/scaler.pkl']"
      ]
     },
     "execution_count": 7,
     "metadata": {},
     "output_type": "execute_result"
    }
   ],
   "source": [
    "joblib.dump(Scaler,'./Model_RF_FC2/scaler.pkl')"
   ]
  },
  {
   "cell_type": "markdown",
   "metadata": {},
   "source": [
    "### Creating and Training Model"
   ]
  },
  {
   "cell_type": "code",
   "execution_count": 8,
   "metadata": {},
   "outputs": [],
   "source": [
    "# parameters of ANN models\n",
    "\n",
    "param_grid = [\n",
    "{'max_depth': [10, 15, 20],'n_estimators': [60, 70, 80, 90]}, \n",
    "{'bootstrap': [False], 'max_depth': [10, 15, 20],'n_estimators': [60, 70, 80, 90]},\n",
    "]"
   ]
  },
  {
   "cell_type": "code",
   "execution_count": 9,
   "metadata": {},
   "outputs": [],
   "source": [
    "# Cross Validation\n",
    "\n",
    "RF = RandomForestClassifier(criterion= 'gini',max_features='sqrt',random_state=0)\n",
    "\n",
    "\n",
    "GS = GridSearchCV(RF, param_grid, cv=10, scoring='accuracy',return_train_score=True, n_jobs=-1)"
   ]
  },
  {
   "cell_type": "code",
   "execution_count": 10,
   "metadata": {},
   "outputs": [
    {
     "data": {
      "text/plain": [
       "GridSearchCV(cv=10,\n",
       "             estimator=RandomForestClassifier(max_features='sqrt',\n",
       "                                              random_state=0),\n",
       "             n_jobs=-1,\n",
       "             param_grid=[{'max_depth': [10, 15, 20],\n",
       "                          'n_estimators': [60, 70, 80, 90]},\n",
       "                         {'bootstrap': [False], 'max_depth': [10, 15, 20],\n",
       "                          'n_estimators': [60, 70, 80, 90]}],\n",
       "             return_train_score=True, scoring='accuracy')"
      ]
     },
     "execution_count": 10,
     "metadata": {},
     "output_type": "execute_result"
    }
   ],
   "source": [
    "GS.fit(X_train, y_Train)"
   ]
  },
  {
   "cell_type": "code",
   "execution_count": 11,
   "metadata": {},
   "outputs": [
    {
     "data": {
      "text/plain": [
       "['./Model_RF_FC2/GridSearch_RF.pkl']"
      ]
     },
     "execution_count": 11,
     "metadata": {},
     "output_type": "execute_result"
    }
   ],
   "source": [
    "# saving grid search\n",
    "\n",
    "joblib.dump(GS,'./Model_RF_FC2/GridSearch_RF.pkl')"
   ]
  },
  {
   "cell_type": "markdown",
   "metadata": {},
   "source": [
    "### Evaluating and Selecting Model"
   ]
  },
  {
   "cell_type": "code",
   "execution_count": 12,
   "metadata": {},
   "outputs": [],
   "source": [
    "# loading grid search\n",
    "\n",
    "GS_RF = joblib.load('./Model_RF_FC2/GridSearch_RF.pkl')"
   ]
  },
  {
   "cell_type": "code",
   "execution_count": 13,
   "metadata": {},
   "outputs": [
    {
     "data": {
      "text/plain": [
       "RandomForestClassifier(bootstrap=False, max_depth=15, max_features='sqrt',\n",
       "                       n_estimators=60, random_state=0)"
      ]
     },
     "execution_count": 13,
     "metadata": {},
     "output_type": "execute_result"
    }
   ],
   "source": [
    "# best estimator\n",
    "\n",
    "GS_RF.best_estimator_"
   ]
  },
  {
   "cell_type": "code",
   "execution_count": 14,
   "metadata": {},
   "outputs": [
    {
     "name": "stdout",
     "output_type": "stream",
     "text": [
      "Best Index = 17\n"
     ]
    }
   ],
   "source": [
    "# index of best model\n",
    "\n",
    "print('Best Index = {}'.format(GS_RF.best_index_+1))"
   ]
  },
  {
   "cell_type": "code",
   "execution_count": 15,
   "metadata": {},
   "outputs": [
    {
     "data": {
      "text/plain": [
       "{'bootstrap': False, 'max_depth': 15, 'n_estimators': 60}"
      ]
     },
     "execution_count": 15,
     "metadata": {},
     "output_type": "execute_result"
    }
   ],
   "source": [
    "# best parameters\n",
    "\n",
    "GS_RF.best_params_"
   ]
  },
  {
   "cell_type": "code",
   "execution_count": 16,
   "metadata": {},
   "outputs": [
    {
     "name": "stdout",
     "output_type": "stream",
     "text": [
      "RF Evaluation\n",
      "M1: 0.828571 +- 0.09689 {'max_depth': 10, 'n_estimators': 60}\n",
      "M2: 0.835714 +- 0.101267 {'max_depth': 10, 'n_estimators': 70}\n",
      "M3: 0.842857 +- 0.094761 {'max_depth': 10, 'n_estimators': 80}\n",
      "M4: 0.828571 +- 0.106904 {'max_depth': 10, 'n_estimators': 90}\n",
      "M5: 0.842857 +- 0.094761 {'max_depth': 15, 'n_estimators': 60}\n",
      "M6: 0.842857 +- 0.094761 {'max_depth': 15, 'n_estimators': 70}\n",
      "M7: 0.85 +- 0.098198 {'max_depth': 15, 'n_estimators': 80}\n",
      "M8: 0.842857 +- 0.094761 {'max_depth': 15, 'n_estimators': 90}\n",
      "M9: 0.842857 +- 0.094761 {'max_depth': 20, 'n_estimators': 60}\n",
      "M10: 0.842857 +- 0.094761 {'max_depth': 20, 'n_estimators': 70}\n",
      "M11: 0.85 +- 0.098198 {'max_depth': 20, 'n_estimators': 80}\n",
      "M12: 0.842857 +- 0.094761 {'max_depth': 20, 'n_estimators': 90}\n",
      "M13: 0.85 +- 0.081127 {'bootstrap': False, 'max_depth': 10, 'n_estimators': 60}\n",
      "M14: 0.85 +- 0.08719 {'bootstrap': False, 'max_depth': 10, 'n_estimators': 70}\n",
      "M15: 0.842857 +- 0.083299 {'bootstrap': False, 'max_depth': 10, 'n_estimators': 80}\n",
      "M16: 0.85 +- 0.08719 {'bootstrap': False, 'max_depth': 10, 'n_estimators': 90}\n",
      "M17: 0.864286 +- 0.092857 {'bootstrap': False, 'max_depth': 15, 'n_estimators': 60}\n",
      "M18: 0.857143 +- 0.090351 {'bootstrap': False, 'max_depth': 15, 'n_estimators': 70}\n",
      "M19: 0.857143 +- 0.090351 {'bootstrap': False, 'max_depth': 15, 'n_estimators': 80}\n",
      "M20: 0.85 +- 0.08719 {'bootstrap': False, 'max_depth': 15, 'n_estimators': 90}\n",
      "M21: 0.864286 +- 0.092857 {'bootstrap': False, 'max_depth': 20, 'n_estimators': 60}\n",
      "M22: 0.857143 +- 0.090351 {'bootstrap': False, 'max_depth': 20, 'n_estimators': 70}\n",
      "M23: 0.857143 +- 0.090351 {'bootstrap': False, 'max_depth': 20, 'n_estimators': 80}\n",
      "M24: 0.85 +- 0.08719 {'bootstrap': False, 'max_depth': 20, 'n_estimators': 90}\n"
     ]
    }
   ],
   "source": [
    "# scores by model\n",
    "\n",
    "cvres = GS_RF.cv_results_\n",
    "\n",
    "print('RF Evaluation')\n",
    "k=1\n",
    "for mean_score, standard, params in zip(cvres[\"mean_test_score\"], cvres[\"std_test_score\"], cvres[\"params\"]):\n",
    "    print('M{}:'.format(k), round(mean_score,6), '+- {}'.format(round(standard,6)), params)\n",
    "    k=k+1"
   ]
  },
  {
   "cell_type": "code",
   "execution_count": 17,
   "metadata": {},
   "outputs": [],
   "source": [
    "# All the CV scores by each Feaature Composition\n",
    "\n",
    "Nmodels = len(GS_RF.cv_results_[\"params\"])\n",
    "\n",
    "col_scr=[]\n",
    "row_scr=[]\n",
    "\n",
    "for k in range(10):\n",
    "    col_scr.insert(k,'CV_{}'.format(k+1))\n",
    "    \n",
    "    \n",
    "for j in range(Nmodels):\n",
    "    row_scr.insert(j,'M{}'.format(j+1))\n",
    "\n",
    "    \n",
    "df_scores=[]    \n",
    "for k in range(10):\n",
    "\n",
    "    cvres = GS_RF.cv_results_\n",
    "    score_valid=np.concatenate((cvres['split0_test_score'].reshape(Nmodels,1),\n",
    "                            cvres['split1_test_score'].reshape(Nmodels,1),\n",
    "                            cvres['split2_test_score'].reshape(Nmodels,1),\n",
    "                            cvres['split3_test_score'].reshape(Nmodels,1),\n",
    "                            cvres['split4_test_score'].reshape(Nmodels,1),\n",
    "                            cvres['split5_test_score'].reshape(Nmodels,1),\n",
    "                            cvres['split6_test_score'].reshape(Nmodels,1),\n",
    "                            cvres['split7_test_score'].reshape(Nmodels,1),\n",
    "                            cvres['split8_test_score'].reshape(Nmodels,1),\n",
    "                            cvres['split9_test_score'].reshape(Nmodels,1)),axis=1) \n",
    "    df_scores = pd.DataFrame(data=score_valid,index=row_scr,columns=col_scr).transpose()"
   ]
  },
  {
   "cell_type": "code",
   "execution_count": 18,
   "metadata": {},
   "outputs": [
    {
     "data": {
      "text/html": [
       "<div>\n",
       "<style scoped>\n",
       "    .dataframe tbody tr th:only-of-type {\n",
       "        vertical-align: middle;\n",
       "    }\n",
       "\n",
       "    .dataframe tbody tr th {\n",
       "        vertical-align: top;\n",
       "    }\n",
       "\n",
       "    .dataframe thead th {\n",
       "        text-align: right;\n",
       "    }\n",
       "</style>\n",
       "<table border=\"1\" class=\"dataframe\">\n",
       "  <thead>\n",
       "    <tr style=\"text-align: right;\">\n",
       "      <th></th>\n",
       "      <th>M1</th>\n",
       "      <th>M2</th>\n",
       "      <th>M3</th>\n",
       "      <th>M4</th>\n",
       "      <th>M5</th>\n",
       "      <th>M6</th>\n",
       "      <th>M7</th>\n",
       "      <th>M8</th>\n",
       "      <th>M9</th>\n",
       "      <th>M10</th>\n",
       "      <th>...</th>\n",
       "      <th>M15</th>\n",
       "      <th>M16</th>\n",
       "      <th>M17</th>\n",
       "      <th>M18</th>\n",
       "      <th>M19</th>\n",
       "      <th>M20</th>\n",
       "      <th>M21</th>\n",
       "      <th>M22</th>\n",
       "      <th>M23</th>\n",
       "      <th>M24</th>\n",
       "    </tr>\n",
       "  </thead>\n",
       "  <tbody>\n",
       "    <tr>\n",
       "      <th>CV_1</th>\n",
       "      <td>0.642857</td>\n",
       "      <td>0.642857</td>\n",
       "      <td>0.642857</td>\n",
       "      <td>0.642857</td>\n",
       "      <td>0.642857</td>\n",
       "      <td>0.642857</td>\n",
       "      <td>0.642857</td>\n",
       "      <td>0.642857</td>\n",
       "      <td>0.642857</td>\n",
       "      <td>0.642857</td>\n",
       "      <td>...</td>\n",
       "      <td>0.642857</td>\n",
       "      <td>0.642857</td>\n",
       "      <td>0.642857</td>\n",
       "      <td>0.642857</td>\n",
       "      <td>0.642857</td>\n",
       "      <td>0.642857</td>\n",
       "      <td>0.642857</td>\n",
       "      <td>0.642857</td>\n",
       "      <td>0.642857</td>\n",
       "      <td>0.642857</td>\n",
       "    </tr>\n",
       "    <tr>\n",
       "      <th>CV_2</th>\n",
       "      <td>0.857143</td>\n",
       "      <td>0.928571</td>\n",
       "      <td>0.928571</td>\n",
       "      <td>0.857143</td>\n",
       "      <td>0.857143</td>\n",
       "      <td>0.928571</td>\n",
       "      <td>0.928571</td>\n",
       "      <td>0.857143</td>\n",
       "      <td>0.857143</td>\n",
       "      <td>0.928571</td>\n",
       "      <td>...</td>\n",
       "      <td>0.785714</td>\n",
       "      <td>0.785714</td>\n",
       "      <td>0.785714</td>\n",
       "      <td>0.785714</td>\n",
       "      <td>0.785714</td>\n",
       "      <td>0.785714</td>\n",
       "      <td>0.785714</td>\n",
       "      <td>0.785714</td>\n",
       "      <td>0.785714</td>\n",
       "      <td>0.785714</td>\n",
       "    </tr>\n",
       "    <tr>\n",
       "      <th>CV_3</th>\n",
       "      <td>1.000000</td>\n",
       "      <td>1.000000</td>\n",
       "      <td>1.000000</td>\n",
       "      <td>1.000000</td>\n",
       "      <td>1.000000</td>\n",
       "      <td>1.000000</td>\n",
       "      <td>1.000000</td>\n",
       "      <td>1.000000</td>\n",
       "      <td>1.000000</td>\n",
       "      <td>1.000000</td>\n",
       "      <td>...</td>\n",
       "      <td>0.928571</td>\n",
       "      <td>0.928571</td>\n",
       "      <td>0.928571</td>\n",
       "      <td>0.928571</td>\n",
       "      <td>0.928571</td>\n",
       "      <td>0.928571</td>\n",
       "      <td>0.928571</td>\n",
       "      <td>0.928571</td>\n",
       "      <td>0.928571</td>\n",
       "      <td>0.928571</td>\n",
       "    </tr>\n",
       "    <tr>\n",
       "      <th>CV_4</th>\n",
       "      <td>0.928571</td>\n",
       "      <td>0.928571</td>\n",
       "      <td>0.928571</td>\n",
       "      <td>0.928571</td>\n",
       "      <td>0.928571</td>\n",
       "      <td>0.928571</td>\n",
       "      <td>0.928571</td>\n",
       "      <td>0.928571</td>\n",
       "      <td>0.928571</td>\n",
       "      <td>0.928571</td>\n",
       "      <td>...</td>\n",
       "      <td>0.928571</td>\n",
       "      <td>0.928571</td>\n",
       "      <td>0.928571</td>\n",
       "      <td>0.928571</td>\n",
       "      <td>0.928571</td>\n",
       "      <td>0.928571</td>\n",
       "      <td>0.928571</td>\n",
       "      <td>0.928571</td>\n",
       "      <td>0.928571</td>\n",
       "      <td>0.928571</td>\n",
       "    </tr>\n",
       "    <tr>\n",
       "      <th>CV_5</th>\n",
       "      <td>0.857143</td>\n",
       "      <td>0.857143</td>\n",
       "      <td>0.857143</td>\n",
       "      <td>0.857143</td>\n",
       "      <td>0.857143</td>\n",
       "      <td>0.857143</td>\n",
       "      <td>0.857143</td>\n",
       "      <td>0.857143</td>\n",
       "      <td>0.857143</td>\n",
       "      <td>0.857143</td>\n",
       "      <td>...</td>\n",
       "      <td>0.857143</td>\n",
       "      <td>0.857143</td>\n",
       "      <td>0.928571</td>\n",
       "      <td>0.928571</td>\n",
       "      <td>0.928571</td>\n",
       "      <td>0.857143</td>\n",
       "      <td>0.928571</td>\n",
       "      <td>0.928571</td>\n",
       "      <td>0.928571</td>\n",
       "      <td>0.857143</td>\n",
       "    </tr>\n",
       "    <tr>\n",
       "      <th>CV_6</th>\n",
       "      <td>0.857143</td>\n",
       "      <td>0.857143</td>\n",
       "      <td>0.857143</td>\n",
       "      <td>0.857143</td>\n",
       "      <td>0.928571</td>\n",
       "      <td>0.857143</td>\n",
       "      <td>0.857143</td>\n",
       "      <td>0.857143</td>\n",
       "      <td>0.928571</td>\n",
       "      <td>0.857143</td>\n",
       "      <td>...</td>\n",
       "      <td>0.857143</td>\n",
       "      <td>0.928571</td>\n",
       "      <td>0.928571</td>\n",
       "      <td>0.928571</td>\n",
       "      <td>0.928571</td>\n",
       "      <td>0.928571</td>\n",
       "      <td>0.928571</td>\n",
       "      <td>0.928571</td>\n",
       "      <td>0.928571</td>\n",
       "      <td>0.928571</td>\n",
       "    </tr>\n",
       "    <tr>\n",
       "      <th>CV_7</th>\n",
       "      <td>0.714286</td>\n",
       "      <td>0.714286</td>\n",
       "      <td>0.785714</td>\n",
       "      <td>0.714286</td>\n",
       "      <td>0.785714</td>\n",
       "      <td>0.785714</td>\n",
       "      <td>0.785714</td>\n",
       "      <td>0.785714</td>\n",
       "      <td>0.785714</td>\n",
       "      <td>0.785714</td>\n",
       "      <td>...</td>\n",
       "      <td>0.857143</td>\n",
       "      <td>0.857143</td>\n",
       "      <td>0.928571</td>\n",
       "      <td>0.857143</td>\n",
       "      <td>0.857143</td>\n",
       "      <td>0.857143</td>\n",
       "      <td>0.928571</td>\n",
       "      <td>0.857143</td>\n",
       "      <td>0.857143</td>\n",
       "      <td>0.857143</td>\n",
       "    </tr>\n",
       "    <tr>\n",
       "      <th>CV_8</th>\n",
       "      <td>0.785714</td>\n",
       "      <td>0.785714</td>\n",
       "      <td>0.785714</td>\n",
       "      <td>0.785714</td>\n",
       "      <td>0.785714</td>\n",
       "      <td>0.785714</td>\n",
       "      <td>0.785714</td>\n",
       "      <td>0.785714</td>\n",
       "      <td>0.785714</td>\n",
       "      <td>0.785714</td>\n",
       "      <td>...</td>\n",
       "      <td>0.857143</td>\n",
       "      <td>0.857143</td>\n",
       "      <td>0.857143</td>\n",
       "      <td>0.857143</td>\n",
       "      <td>0.857143</td>\n",
       "      <td>0.857143</td>\n",
       "      <td>0.857143</td>\n",
       "      <td>0.857143</td>\n",
       "      <td>0.857143</td>\n",
       "      <td>0.857143</td>\n",
       "    </tr>\n",
       "    <tr>\n",
       "      <th>CV_9</th>\n",
       "      <td>0.785714</td>\n",
       "      <td>0.785714</td>\n",
       "      <td>0.785714</td>\n",
       "      <td>0.714286</td>\n",
       "      <td>0.785714</td>\n",
       "      <td>0.785714</td>\n",
       "      <td>0.785714</td>\n",
       "      <td>0.785714</td>\n",
       "      <td>0.785714</td>\n",
       "      <td>0.785714</td>\n",
       "      <td>...</td>\n",
       "      <td>0.785714</td>\n",
       "      <td>0.785714</td>\n",
       "      <td>0.785714</td>\n",
       "      <td>0.785714</td>\n",
       "      <td>0.785714</td>\n",
       "      <td>0.785714</td>\n",
       "      <td>0.785714</td>\n",
       "      <td>0.785714</td>\n",
       "      <td>0.785714</td>\n",
       "      <td>0.785714</td>\n",
       "    </tr>\n",
       "    <tr>\n",
       "      <th>CV_10</th>\n",
       "      <td>0.857143</td>\n",
       "      <td>0.857143</td>\n",
       "      <td>0.857143</td>\n",
       "      <td>0.928571</td>\n",
       "      <td>0.857143</td>\n",
       "      <td>0.857143</td>\n",
       "      <td>0.928571</td>\n",
       "      <td>0.928571</td>\n",
       "      <td>0.857143</td>\n",
       "      <td>0.857143</td>\n",
       "      <td>...</td>\n",
       "      <td>0.928571</td>\n",
       "      <td>0.928571</td>\n",
       "      <td>0.928571</td>\n",
       "      <td>0.928571</td>\n",
       "      <td>0.928571</td>\n",
       "      <td>0.928571</td>\n",
       "      <td>0.928571</td>\n",
       "      <td>0.928571</td>\n",
       "      <td>0.928571</td>\n",
       "      <td>0.928571</td>\n",
       "    </tr>\n",
       "  </tbody>\n",
       "</table>\n",
       "<p>10 rows × 24 columns</p>\n",
       "</div>"
      ],
      "text/plain": [
       "             M1        M2        M3        M4        M5        M6        M7  \\\n",
       "CV_1   0.642857  0.642857  0.642857  0.642857  0.642857  0.642857  0.642857   \n",
       "CV_2   0.857143  0.928571  0.928571  0.857143  0.857143  0.928571  0.928571   \n",
       "CV_3   1.000000  1.000000  1.000000  1.000000  1.000000  1.000000  1.000000   \n",
       "CV_4   0.928571  0.928571  0.928571  0.928571  0.928571  0.928571  0.928571   \n",
       "CV_5   0.857143  0.857143  0.857143  0.857143  0.857143  0.857143  0.857143   \n",
       "CV_6   0.857143  0.857143  0.857143  0.857143  0.928571  0.857143  0.857143   \n",
       "CV_7   0.714286  0.714286  0.785714  0.714286  0.785714  0.785714  0.785714   \n",
       "CV_8   0.785714  0.785714  0.785714  0.785714  0.785714  0.785714  0.785714   \n",
       "CV_9   0.785714  0.785714  0.785714  0.714286  0.785714  0.785714  0.785714   \n",
       "CV_10  0.857143  0.857143  0.857143  0.928571  0.857143  0.857143  0.928571   \n",
       "\n",
       "             M8        M9       M10  ...       M15       M16       M17  \\\n",
       "CV_1   0.642857  0.642857  0.642857  ...  0.642857  0.642857  0.642857   \n",
       "CV_2   0.857143  0.857143  0.928571  ...  0.785714  0.785714  0.785714   \n",
       "CV_3   1.000000  1.000000  1.000000  ...  0.928571  0.928571  0.928571   \n",
       "CV_4   0.928571  0.928571  0.928571  ...  0.928571  0.928571  0.928571   \n",
       "CV_5   0.857143  0.857143  0.857143  ...  0.857143  0.857143  0.928571   \n",
       "CV_6   0.857143  0.928571  0.857143  ...  0.857143  0.928571  0.928571   \n",
       "CV_7   0.785714  0.785714  0.785714  ...  0.857143  0.857143  0.928571   \n",
       "CV_8   0.785714  0.785714  0.785714  ...  0.857143  0.857143  0.857143   \n",
       "CV_9   0.785714  0.785714  0.785714  ...  0.785714  0.785714  0.785714   \n",
       "CV_10  0.928571  0.857143  0.857143  ...  0.928571  0.928571  0.928571   \n",
       "\n",
       "            M18       M19       M20       M21       M22       M23       M24  \n",
       "CV_1   0.642857  0.642857  0.642857  0.642857  0.642857  0.642857  0.642857  \n",
       "CV_2   0.785714  0.785714  0.785714  0.785714  0.785714  0.785714  0.785714  \n",
       "CV_3   0.928571  0.928571  0.928571  0.928571  0.928571  0.928571  0.928571  \n",
       "CV_4   0.928571  0.928571  0.928571  0.928571  0.928571  0.928571  0.928571  \n",
       "CV_5   0.928571  0.928571  0.857143  0.928571  0.928571  0.928571  0.857143  \n",
       "CV_6   0.928571  0.928571  0.928571  0.928571  0.928571  0.928571  0.928571  \n",
       "CV_7   0.857143  0.857143  0.857143  0.928571  0.857143  0.857143  0.857143  \n",
       "CV_8   0.857143  0.857143  0.857143  0.857143  0.857143  0.857143  0.857143  \n",
       "CV_9   0.785714  0.785714  0.785714  0.785714  0.785714  0.785714  0.785714  \n",
       "CV_10  0.928571  0.928571  0.928571  0.928571  0.928571  0.928571  0.928571  \n",
       "\n",
       "[10 rows x 24 columns]"
      ]
     },
     "execution_count": 18,
     "metadata": {},
     "output_type": "execute_result"
    }
   ],
   "source": [
    "df_scores"
   ]
  },
  {
   "cell_type": "code",
   "execution_count": 19,
   "metadata": {},
   "outputs": [
    {
     "data": {
      "text/html": [
       "<div>\n",
       "<style scoped>\n",
       "    .dataframe tbody tr th:only-of-type {\n",
       "        vertical-align: middle;\n",
       "    }\n",
       "\n",
       "    .dataframe tbody tr th {\n",
       "        vertical-align: top;\n",
       "    }\n",
       "\n",
       "    .dataframe thead th {\n",
       "        text-align: right;\n",
       "    }\n",
       "</style>\n",
       "<table border=\"1\" class=\"dataframe\">\n",
       "  <thead>\n",
       "    <tr style=\"text-align: right;\">\n",
       "      <th></th>\n",
       "      <th>M1</th>\n",
       "      <th>M2</th>\n",
       "      <th>M3</th>\n",
       "      <th>M4</th>\n",
       "      <th>M5</th>\n",
       "      <th>M6</th>\n",
       "      <th>M7</th>\n",
       "      <th>M8</th>\n",
       "      <th>M9</th>\n",
       "      <th>M10</th>\n",
       "      <th>...</th>\n",
       "      <th>M15</th>\n",
       "      <th>M16</th>\n",
       "      <th>M17</th>\n",
       "      <th>M18</th>\n",
       "      <th>M19</th>\n",
       "      <th>M20</th>\n",
       "      <th>M21</th>\n",
       "      <th>M22</th>\n",
       "      <th>M23</th>\n",
       "      <th>M24</th>\n",
       "    </tr>\n",
       "  </thead>\n",
       "  <tbody>\n",
       "    <tr>\n",
       "      <th>count</th>\n",
       "      <td>10.000000</td>\n",
       "      <td>10.000000</td>\n",
       "      <td>10.000000</td>\n",
       "      <td>10.000000</td>\n",
       "      <td>10.000000</td>\n",
       "      <td>10.000000</td>\n",
       "      <td>10.000000</td>\n",
       "      <td>10.000000</td>\n",
       "      <td>10.000000</td>\n",
       "      <td>10.000000</td>\n",
       "      <td>...</td>\n",
       "      <td>10.000000</td>\n",
       "      <td>10.000000</td>\n",
       "      <td>10.000000</td>\n",
       "      <td>10.000000</td>\n",
       "      <td>10.000000</td>\n",
       "      <td>10.000000</td>\n",
       "      <td>10.000000</td>\n",
       "      <td>10.000000</td>\n",
       "      <td>10.000000</td>\n",
       "      <td>10.000000</td>\n",
       "    </tr>\n",
       "    <tr>\n",
       "      <th>mean</th>\n",
       "      <td>0.828571</td>\n",
       "      <td>0.835714</td>\n",
       "      <td>0.842857</td>\n",
       "      <td>0.828571</td>\n",
       "      <td>0.842857</td>\n",
       "      <td>0.842857</td>\n",
       "      <td>0.850000</td>\n",
       "      <td>0.842857</td>\n",
       "      <td>0.842857</td>\n",
       "      <td>0.842857</td>\n",
       "      <td>...</td>\n",
       "      <td>0.842857</td>\n",
       "      <td>0.850000</td>\n",
       "      <td>0.864286</td>\n",
       "      <td>0.857143</td>\n",
       "      <td>0.857143</td>\n",
       "      <td>0.850000</td>\n",
       "      <td>0.864286</td>\n",
       "      <td>0.857143</td>\n",
       "      <td>0.857143</td>\n",
       "      <td>0.850000</td>\n",
       "    </tr>\n",
       "    <tr>\n",
       "      <th>std</th>\n",
       "      <td>0.102131</td>\n",
       "      <td>0.106745</td>\n",
       "      <td>0.099887</td>\n",
       "      <td>0.112687</td>\n",
       "      <td>0.099887</td>\n",
       "      <td>0.099887</td>\n",
       "      <td>0.103510</td>\n",
       "      <td>0.099887</td>\n",
       "      <td>0.099887</td>\n",
       "      <td>0.099887</td>\n",
       "      <td>...</td>\n",
       "      <td>0.087805</td>\n",
       "      <td>0.091906</td>\n",
       "      <td>0.097880</td>\n",
       "      <td>0.095238</td>\n",
       "      <td>0.095238</td>\n",
       "      <td>0.091906</td>\n",
       "      <td>0.097880</td>\n",
       "      <td>0.095238</td>\n",
       "      <td>0.095238</td>\n",
       "      <td>0.091906</td>\n",
       "    </tr>\n",
       "    <tr>\n",
       "      <th>min</th>\n",
       "      <td>0.642857</td>\n",
       "      <td>0.642857</td>\n",
       "      <td>0.642857</td>\n",
       "      <td>0.642857</td>\n",
       "      <td>0.642857</td>\n",
       "      <td>0.642857</td>\n",
       "      <td>0.642857</td>\n",
       "      <td>0.642857</td>\n",
       "      <td>0.642857</td>\n",
       "      <td>0.642857</td>\n",
       "      <td>...</td>\n",
       "      <td>0.642857</td>\n",
       "      <td>0.642857</td>\n",
       "      <td>0.642857</td>\n",
       "      <td>0.642857</td>\n",
       "      <td>0.642857</td>\n",
       "      <td>0.642857</td>\n",
       "      <td>0.642857</td>\n",
       "      <td>0.642857</td>\n",
       "      <td>0.642857</td>\n",
       "      <td>0.642857</td>\n",
       "    </tr>\n",
       "    <tr>\n",
       "      <th>25%</th>\n",
       "      <td>0.785714</td>\n",
       "      <td>0.785714</td>\n",
       "      <td>0.785714</td>\n",
       "      <td>0.732143</td>\n",
       "      <td>0.785714</td>\n",
       "      <td>0.785714</td>\n",
       "      <td>0.785714</td>\n",
       "      <td>0.785714</td>\n",
       "      <td>0.785714</td>\n",
       "      <td>0.785714</td>\n",
       "      <td>...</td>\n",
       "      <td>0.803571</td>\n",
       "      <td>0.803571</td>\n",
       "      <td>0.803571</td>\n",
       "      <td>0.803571</td>\n",
       "      <td>0.803571</td>\n",
       "      <td>0.803571</td>\n",
       "      <td>0.803571</td>\n",
       "      <td>0.803571</td>\n",
       "      <td>0.803571</td>\n",
       "      <td>0.803571</td>\n",
       "    </tr>\n",
       "    <tr>\n",
       "      <th>50%</th>\n",
       "      <td>0.857143</td>\n",
       "      <td>0.857143</td>\n",
       "      <td>0.857143</td>\n",
       "      <td>0.857143</td>\n",
       "      <td>0.857143</td>\n",
       "      <td>0.857143</td>\n",
       "      <td>0.857143</td>\n",
       "      <td>0.857143</td>\n",
       "      <td>0.857143</td>\n",
       "      <td>0.857143</td>\n",
       "      <td>...</td>\n",
       "      <td>0.857143</td>\n",
       "      <td>0.857143</td>\n",
       "      <td>0.928571</td>\n",
       "      <td>0.892857</td>\n",
       "      <td>0.892857</td>\n",
       "      <td>0.857143</td>\n",
       "      <td>0.928571</td>\n",
       "      <td>0.892857</td>\n",
       "      <td>0.892857</td>\n",
       "      <td>0.857143</td>\n",
       "    </tr>\n",
       "    <tr>\n",
       "      <th>75%</th>\n",
       "      <td>0.857143</td>\n",
       "      <td>0.910714</td>\n",
       "      <td>0.910714</td>\n",
       "      <td>0.910714</td>\n",
       "      <td>0.910714</td>\n",
       "      <td>0.910714</td>\n",
       "      <td>0.928571</td>\n",
       "      <td>0.910714</td>\n",
       "      <td>0.910714</td>\n",
       "      <td>0.910714</td>\n",
       "      <td>...</td>\n",
       "      <td>0.910714</td>\n",
       "      <td>0.928571</td>\n",
       "      <td>0.928571</td>\n",
       "      <td>0.928571</td>\n",
       "      <td>0.928571</td>\n",
       "      <td>0.928571</td>\n",
       "      <td>0.928571</td>\n",
       "      <td>0.928571</td>\n",
       "      <td>0.928571</td>\n",
       "      <td>0.928571</td>\n",
       "    </tr>\n",
       "    <tr>\n",
       "      <th>max</th>\n",
       "      <td>1.000000</td>\n",
       "      <td>1.000000</td>\n",
       "      <td>1.000000</td>\n",
       "      <td>1.000000</td>\n",
       "      <td>1.000000</td>\n",
       "      <td>1.000000</td>\n",
       "      <td>1.000000</td>\n",
       "      <td>1.000000</td>\n",
       "      <td>1.000000</td>\n",
       "      <td>1.000000</td>\n",
       "      <td>...</td>\n",
       "      <td>0.928571</td>\n",
       "      <td>0.928571</td>\n",
       "      <td>0.928571</td>\n",
       "      <td>0.928571</td>\n",
       "      <td>0.928571</td>\n",
       "      <td>0.928571</td>\n",
       "      <td>0.928571</td>\n",
       "      <td>0.928571</td>\n",
       "      <td>0.928571</td>\n",
       "      <td>0.928571</td>\n",
       "    </tr>\n",
       "  </tbody>\n",
       "</table>\n",
       "<p>8 rows × 24 columns</p>\n",
       "</div>"
      ],
      "text/plain": [
       "              M1         M2         M3         M4         M5         M6  \\\n",
       "count  10.000000  10.000000  10.000000  10.000000  10.000000  10.000000   \n",
       "mean    0.828571   0.835714   0.842857   0.828571   0.842857   0.842857   \n",
       "std     0.102131   0.106745   0.099887   0.112687   0.099887   0.099887   \n",
       "min     0.642857   0.642857   0.642857   0.642857   0.642857   0.642857   \n",
       "25%     0.785714   0.785714   0.785714   0.732143   0.785714   0.785714   \n",
       "50%     0.857143   0.857143   0.857143   0.857143   0.857143   0.857143   \n",
       "75%     0.857143   0.910714   0.910714   0.910714   0.910714   0.910714   \n",
       "max     1.000000   1.000000   1.000000   1.000000   1.000000   1.000000   \n",
       "\n",
       "              M7         M8         M9        M10  ...        M15        M16  \\\n",
       "count  10.000000  10.000000  10.000000  10.000000  ...  10.000000  10.000000   \n",
       "mean    0.850000   0.842857   0.842857   0.842857  ...   0.842857   0.850000   \n",
       "std     0.103510   0.099887   0.099887   0.099887  ...   0.087805   0.091906   \n",
       "min     0.642857   0.642857   0.642857   0.642857  ...   0.642857   0.642857   \n",
       "25%     0.785714   0.785714   0.785714   0.785714  ...   0.803571   0.803571   \n",
       "50%     0.857143   0.857143   0.857143   0.857143  ...   0.857143   0.857143   \n",
       "75%     0.928571   0.910714   0.910714   0.910714  ...   0.910714   0.928571   \n",
       "max     1.000000   1.000000   1.000000   1.000000  ...   0.928571   0.928571   \n",
       "\n",
       "             M17        M18        M19        M20        M21        M22  \\\n",
       "count  10.000000  10.000000  10.000000  10.000000  10.000000  10.000000   \n",
       "mean    0.864286   0.857143   0.857143   0.850000   0.864286   0.857143   \n",
       "std     0.097880   0.095238   0.095238   0.091906   0.097880   0.095238   \n",
       "min     0.642857   0.642857   0.642857   0.642857   0.642857   0.642857   \n",
       "25%     0.803571   0.803571   0.803571   0.803571   0.803571   0.803571   \n",
       "50%     0.928571   0.892857   0.892857   0.857143   0.928571   0.892857   \n",
       "75%     0.928571   0.928571   0.928571   0.928571   0.928571   0.928571   \n",
       "max     0.928571   0.928571   0.928571   0.928571   0.928571   0.928571   \n",
       "\n",
       "             M23        M24  \n",
       "count  10.000000  10.000000  \n",
       "mean    0.857143   0.850000  \n",
       "std     0.095238   0.091906  \n",
       "min     0.642857   0.642857  \n",
       "25%     0.803571   0.803571  \n",
       "50%     0.892857   0.857143  \n",
       "75%     0.928571   0.928571  \n",
       "max     0.928571   0.928571  \n",
       "\n",
       "[8 rows x 24 columns]"
      ]
     },
     "execution_count": 19,
     "metadata": {},
     "output_type": "execute_result"
    }
   ],
   "source": [
    "df_scores.describe()"
   ]
  },
  {
   "cell_type": "code",
   "execution_count": 20,
   "metadata": {},
   "outputs": [
    {
     "data": {
      "text/plain": [
       "(0.5, 1.05)"
      ]
     },
     "execution_count": 20,
     "metadata": {},
     "output_type": "execute_result"
    },
    {
     "data": {
      "text/plain": [
       "<Figure size 1800x1200 with 0 Axes>"
      ]
     },
     "metadata": {},
     "output_type": "display_data"
    },
    {
     "data": {
      "image/png": "[encoded data removed]",
      "text/plain": [
       "<Figure size 648x324 with 1 Axes>"
      ]
     },
     "metadata": {
      "needs_background": "light"
     },
     "output_type": "display_data"
    }
   ],
   "source": [
    "fig1 = plt.figure(dpi=300)\n",
    "\n",
    "sns.catplot(kind=\"box\",data=df_scores, height=4.5, aspect=2, palette='Set1')\n",
    "\n",
    "plt.xlabel('RF model',labelpad=10,fontsize=15)\n",
    "plt.ylabel('Accuracy',labelpad=10,fontsize=15)\n",
    "plt.ylim(0.5, 1.05)"
   ]
  },
  {
   "cell_type": "markdown",
   "metadata": {},
   "source": [
    "### Saving Model"
   ]
  },
  {
   "cell_type": "code",
   "execution_count": 21,
   "metadata": {},
   "outputs": [
    {
     "data": {
      "text/plain": [
       "['./Model_RF_FC2/RF_best_model.pkl']"
      ]
     },
     "execution_count": 21,
     "metadata": {},
     "output_type": "execute_result"
    }
   ],
   "source": [
    "# saving best model\n",
    "\n",
    "joblib.dump(GS_RF.best_estimator_,'./Model_RF_FC2/RF_best_model.pkl')"
   ]
  },
  {
   "cell_type": "code",
   "execution_count": 22,
   "metadata": {},
   "outputs": [
    {
     "data": {
      "text/plain": [
       "['./Model_RF_FC2/df_scores.pkl']"
      ]
     },
     "execution_count": 22,
     "metadata": {},
     "output_type": "execute_result"
    }
   ],
   "source": [
    "# saving results\n",
    "\n",
    "joblib.dump(df_scores,'./Model_RF_FC2/df_scores.pkl')"
   ]
  },
  {
   "cell_type": "code",
   "execution_count": 23,
   "metadata": {},
   "outputs": [],
   "source": [
    "#saving figure\n",
    "\n",
    "#fig1.savefig('./Model_RF_FC2/fig1_RF')"
   ]
  },
  {
   "cell_type": "markdown",
   "metadata": {},
   "source": [
    "### Independent Test"
   ]
  },
  {
   "cell_type": "code",
   "execution_count": 24,
   "metadata": {},
   "outputs": [],
   "source": [
    "from sklearn.metrics import accuracy_score, auc, classification_report, confusion_matrix"
   ]
  },
  {
   "cell_type": "code",
   "execution_count": 25,
   "metadata": {},
   "outputs": [],
   "source": [
    "RF_best = GS_RF.best_estimator_"
   ]
  },
  {
   "cell_type": "code",
   "execution_count": 26,
   "metadata": {},
   "outputs": [],
   "source": [
    "y_pred = RF_best.predict(X_test)"
   ]
  },
  {
   "cell_type": "code",
   "execution_count": 27,
   "metadata": {
    "scrolled": true
   },
   "outputs": [
    {
     "name": "stdout",
     "output_type": "stream",
     "text": [
      "              precision    recall  f1-score   support\n",
      "\n",
      "           0       0.88      0.67      0.76        21\n",
      "           1       0.73      0.90      0.81        21\n",
      "\n",
      "    accuracy                           0.79        42\n",
      "   macro avg       0.80      0.79      0.78        42\n",
      "weighted avg       0.80      0.79      0.78        42\n",
      "\n"
     ]
    }
   ],
   "source": [
    "print(classification_report(y_Test,y_pred))"
   ]
  },
  {
   "cell_type": "code",
   "execution_count": 28,
   "metadata": {},
   "outputs": [
    {
     "data": {
      "text/plain": [
       "'Accuracy = 0.7857142857142857'"
      ]
     },
     "metadata": {},
     "output_type": "display_data"
    },
    {
     "data": {
      "text/plain": [
       "'Sensitivity = 0.9047619047619048'"
      ]
     },
     "metadata": {},
     "output_type": "display_data"
    },
    {
     "data": {
      "text/plain": [
       "'Specificity = 0.6666666666666666'"
      ]
     },
     "metadata": {},
     "output_type": "display_data"
    }
   ],
   "source": [
    "tn, fp, fn, tp = confusion_matrix(y_Test,y_pred).ravel()\n",
    "display('Accuracy = {}'.format((tp+tn)/(tp+tn+fp+fn)))\n",
    "display('Sensitivity = {}'.format(tp/(tp+fn)))\n",
    "display('Specificity = {}'.format(tn/(tn+fp)))"
   ]
  }
 ],
 "metadata": {
  "kernelspec": {
   "display_name": "Python 3",
   "language": "python",
   "name": "python3"
  },
  "language_info": {
   "codemirror_mode": {
    "name": "ipython",
    "version": 3
   },
   "file_extension": ".py",
   "mimetype": "text/x-python",
   "name": "python",
   "nbconvert_exporter": "python",
   "pygments_lexer": "ipython3",
   "version": "3.7.9"
  }
 },
 "nbformat": 4,
 "nbformat_minor": 4
}

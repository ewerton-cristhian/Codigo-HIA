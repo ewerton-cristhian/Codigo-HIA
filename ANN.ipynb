{
 "cells": [
  {
   "cell_type": "markdown",
   "metadata": {},
   "source": [
    "# Model Selection of ANN in Intestinal Absortion Prediction\n",
    "\n",
    "This section presents the model selection of Artificial Neural Network in Intestinal Absortition Prediction."
   ]
  },
  {
   "cell_type": "code",
   "execution_count": 1,
   "metadata": {},
   "outputs": [],
   "source": [
    "import pandas as pd\n",
    "import numpy as np\n",
    "import seaborn as sns\n",
    "import matplotlib.pyplot as plt\n",
    "\n",
    "%matplotlib inline"
   ]
  },
  {
   "cell_type": "code",
   "execution_count": 2,
   "metadata": {},
   "outputs": [],
   "source": [
    "from sklearn.model_selection import train_test_split\n",
    "from sklearn.preprocessing import MinMaxScaler, StandardScaler\n",
    "import joblib"
   ]
  },
  {
   "cell_type": "code",
   "execution_count": 3,
   "metadata": {},
   "outputs": [],
   "source": [
    "from sklearn.neural_network import MLPClassifier\n",
    "from sklearn.model_selection import GridSearchCV "
   ]
  },
  {
   "cell_type": "markdown",
   "metadata": {},
   "source": [
    "### Importing Dataset for training\n",
    "\n",
    "\n",
    "- FC-1: NHA, LogP, MolWt, NAR, NRB, tPSA, NHD, fcSP3\n",
    "- FC-2: NHA, LogP, tPSA"
   ]
  },
  {
   "cell_type": "code",
   "execution_count": 4,
   "metadata": {},
   "outputs": [],
   "source": [
    "#Data_Train = joblib.load('./Dataset_Training_Test/Data_Train.pkl')\n",
    "\n",
    "Data = pd.read_excel('dataset_HIA_geral.xlsx')"
   ]
  },
  {
   "cell_type": "code",
   "execution_count": 5,
   "metadata": {},
   "outputs": [],
   "source": [
    "# Selecting Feature Composition\n",
    "FC = 2\n",
    "\n",
    "if FC == 1:\n",
    "    X_Train = Data.drop(['Name','SMILES','Output'], axis=1)[0:140].values\n",
    "    X_Test = Data.drop(['Name','SMILES','Output'], axis=1)[140:].values\n",
    "    \n",
    "else:\n",
    "    X_Train = Data[['WLOGP','tPSA','NHA']][0:140].values \n",
    "    X_Test = Data[['WLOGP','tPSA','NHA']][140:].values\n",
    "    \n",
    "\n",
    "y_Train = Data[['Output']][0:140].values.ravel()\n",
    "y_Test = Data[['Output']][140:].values.ravel()"
   ]
  },
  {
   "cell_type": "code",
   "execution_count": 6,
   "metadata": {},
   "outputs": [],
   "source": [
    "# Scaling data\n",
    "\n",
    "Scaler = MinMaxScaler().fit(X_Train)\n",
    "\n",
    "X_train = Scaler.transform(X_Train)  \n",
    "X_test = Scaler.transform(X_Test)  \n"
   ]
  },
  {
   "cell_type": "code",
   "execution_count": 7,
   "metadata": {},
   "outputs": [
    {
     "data": {
      "text/plain": [
       "['./Model_ANN_FC2/scaler.pkl']"
      ]
     },
     "execution_count": 7,
     "metadata": {},
     "output_type": "execute_result"
    }
   ],
   "source": [
    "joblib.dump(Scaler,'./Model_ANN_FC2/scaler.pkl')"
   ]
  },
  {
   "cell_type": "markdown",
   "metadata": {},
   "source": [
    "### Creating and Training Model"
   ]
  },
  {
   "cell_type": "code",
   "execution_count": 8,
   "metadata": {},
   "outputs": [],
   "source": [
    "# parameters of ANN models\n",
    "\n",
    "param_grid = [{'activation': ['relu','tanh'],\n",
    "               'hidden_layer_sizes': [(20), (30), (40), (50), (60), (20,20), (30,30), (40,40), (50,50), (60,60)]}]\n"
   ]
  },
  {
   "cell_type": "code",
   "execution_count": 9,
   "metadata": {},
   "outputs": [],
   "source": [
    "# Cross Validation\n",
    "\n",
    "ANN = MLPClassifier(solver = 'adam', max_iter = 2000, learning_rate = 'adaptive', random_state=0)\n",
    "\n",
    "\n",
    "GS = GridSearchCV(ANN, param_grid, cv=10, scoring='accuracy',return_train_score=True, n_jobs=-1)"
   ]
  },
  {
   "cell_type": "code",
   "execution_count": 10,
   "metadata": {},
   "outputs": [
    {
     "data": {
      "text/plain": [
       "GridSearchCV(cv=10,\n",
       "             estimator=MLPClassifier(learning_rate='adaptive', max_iter=2000,\n",
       "                                     random_state=0),\n",
       "             n_jobs=-1,\n",
       "             param_grid=[{'activation': ['relu', 'tanh'],\n",
       "                          'hidden_layer_sizes': [20, 30, 40, 50, 60, (20, 20),\n",
       "                                                 (30, 30), (40, 40), (50, 50),\n",
       "                                                 (60, 60)]}],\n",
       "             return_train_score=True, scoring='accuracy')"
      ]
     },
     "execution_count": 10,
     "metadata": {},
     "output_type": "execute_result"
    }
   ],
   "source": [
    "GS.fit(X_train, y_Train)"
   ]
  },
  {
   "cell_type": "code",
   "execution_count": 11,
   "metadata": {},
   "outputs": [
    {
     "data": {
      "text/plain": [
       "['./Model_ANN_FC2/GridSearch_ANN.pkl']"
      ]
     },
     "execution_count": 11,
     "metadata": {},
     "output_type": "execute_result"
    }
   ],
   "source": [
    "# saving grid search\n",
    "\n",
    "joblib.dump(GS,'./Model_ANN_FC2/GridSearch_ANN.pkl')"
   ]
  },
  {
   "cell_type": "markdown",
   "metadata": {},
   "source": [
    "### Evaluating and Selecting Model"
   ]
  },
  {
   "cell_type": "code",
   "execution_count": 12,
   "metadata": {},
   "outputs": [],
   "source": [
    "# loading grid search\n",
    "\n",
    "GS_ANN = joblib.load('./Model_ANN_FC2/GridSearch_ANN.pkl')"
   ]
  },
  {
   "cell_type": "code",
   "execution_count": 13,
   "metadata": {},
   "outputs": [
    {
     "data": {
      "text/plain": [
       "MLPClassifier(hidden_layer_sizes=(30, 30), learning_rate='adaptive',\n",
       "              max_iter=2000, random_state=0)"
      ]
     },
     "execution_count": 13,
     "metadata": {},
     "output_type": "execute_result"
    }
   ],
   "source": [
    "# best estimator\n",
    "\n",
    "GS_ANN.best_estimator_"
   ]
  },
  {
   "cell_type": "code",
   "execution_count": 14,
   "metadata": {},
   "outputs": [
    {
     "name": "stdout",
     "output_type": "stream",
     "text": [
      "Best Index = 7\n"
     ]
    }
   ],
   "source": [
    "# index of best model\n",
    "\n",
    "print('Best Index = {}'.format(GS_ANN.best_index_+1))"
   ]
  },
  {
   "cell_type": "code",
   "execution_count": 15,
   "metadata": {},
   "outputs": [
    {
     "data": {
      "text/plain": [
       "{'activation': 'relu', 'hidden_layer_sizes': (30, 30)}"
      ]
     },
     "execution_count": 15,
     "metadata": {},
     "output_type": "execute_result"
    }
   ],
   "source": [
    "# best parameters\n",
    "\n",
    "GS_ANN.best_params_"
   ]
  },
  {
   "cell_type": "code",
   "execution_count": 16,
   "metadata": {},
   "outputs": [
    {
     "name": "stdout",
     "output_type": "stream",
     "text": [
      "ANN Evaluation\n",
      "M1: 0.764286 +- 0.110887 {'activation': 'relu', 'hidden_layer_sizes': 20}\n",
      "M2: 0.771429 +- 0.104978 {'activation': 'relu', 'hidden_layer_sizes': 30}\n",
      "M3: 0.778571 +- 0.092857 {'activation': 'relu', 'hidden_layer_sizes': 40}\n",
      "M4: 0.771429 +- 0.1 {'activation': 'relu', 'hidden_layer_sizes': 50}\n",
      "M5: 0.764286 +- 0.110887 {'activation': 'relu', 'hidden_layer_sizes': 60}\n",
      "M6: 0.778571 +- 0.092857 {'activation': 'relu', 'hidden_layer_sizes': (20, 20)}\n",
      "M7: 0.842857 +- 0.089214 {'activation': 'relu', 'hidden_layer_sizes': (30, 30)}\n",
      "M8: 0.835714 +- 0.084817 {'activation': 'relu', 'hidden_layer_sizes': (40, 40)}\n",
      "M9: 0.821429 +- 0.086011 {'activation': 'relu', 'hidden_layer_sizes': (50, 50)}\n",
      "M10: 0.842857 +- 0.089214 {'activation': 'relu', 'hidden_layer_sizes': (60, 60)}\n",
      "M11: 0.764286 +- 0.110887 {'activation': 'tanh', 'hidden_layer_sizes': 20}\n",
      "M12: 0.764286 +- 0.110887 {'activation': 'tanh', 'hidden_layer_sizes': 30}\n",
      "M13: 0.764286 +- 0.110887 {'activation': 'tanh', 'hidden_layer_sizes': 40}\n",
      "M14: 0.778571 +- 0.092857 {'activation': 'tanh', 'hidden_layer_sizes': 50}\n",
      "M15: 0.771429 +- 0.1 {'activation': 'tanh', 'hidden_layer_sizes': 60}\n",
      "M16: 0.821429 +- 0.091752 {'activation': 'tanh', 'hidden_layer_sizes': (20, 20)}\n",
      "M17: 0.814286 +- 0.091473 {'activation': 'tanh', 'hidden_layer_sizes': (30, 30)}\n",
      "M18: 0.814286 +- 0.091473 {'activation': 'tanh', 'hidden_layer_sizes': (40, 40)}\n",
      "M19: 0.814286 +- 0.091473 {'activation': 'tanh', 'hidden_layer_sizes': (50, 50)}\n",
      "M20: 0.814286 +- 0.091473 {'activation': 'tanh', 'hidden_layer_sizes': (60, 60)}\n"
     ]
    }
   ],
   "source": [
    "# scores by model\n",
    "\n",
    "cvres = GS_ANN.cv_results_\n",
    "\n",
    "print('ANN Evaluation')\n",
    "k=1\n",
    "for mean_score, standard, params in zip(cvres[\"mean_test_score\"], cvres[\"std_test_score\"], cvres[\"params\"]):\n",
    "    print('M{}:'.format(k), round(mean_score,6), '+- {}'.format(round(standard,6)), params)\n",
    "    k=k+1"
   ]
  },
  {
   "cell_type": "code",
   "execution_count": 17,
   "metadata": {},
   "outputs": [],
   "source": [
    "# All the CV scores by each Feaature Composition\n",
    "\n",
    "Nmodels = len(GS_ANN.cv_results_[\"params\"])\n",
    "\n",
    "col_scr=[]\n",
    "row_scr=[]\n",
    "\n",
    "for k in range(10):\n",
    "    col_scr.insert(k,'CV_{}'.format(k+1))\n",
    "    \n",
    "    \n",
    "for j in range(Nmodels):\n",
    "    row_scr.insert(j,'M{}'.format(j+1))\n",
    "\n",
    "    \n",
    "df_scores=[]    \n",
    "for k in range(10):\n",
    "\n",
    "    cvres = GS_ANN.cv_results_\n",
    "    score_valid=np.concatenate((cvres['split0_test_score'].reshape(Nmodels,1),\n",
    "                            cvres['split1_test_score'].reshape(Nmodels,1),\n",
    "                            cvres['split2_test_score'].reshape(Nmodels,1),\n",
    "                            cvres['split3_test_score'].reshape(Nmodels,1),\n",
    "                            cvres['split4_test_score'].reshape(Nmodels,1),\n",
    "                            cvres['split5_test_score'].reshape(Nmodels,1),\n",
    "                            cvres['split6_test_score'].reshape(Nmodels,1),\n",
    "                            cvres['split7_test_score'].reshape(Nmodels,1),\n",
    "                            cvres['split8_test_score'].reshape(Nmodels,1),\n",
    "                            cvres['split9_test_score'].reshape(Nmodels,1)),axis=1) \n",
    "    df_scores = pd.DataFrame(data=score_valid,index=row_scr,columns=col_scr).transpose()"
   ]
  },
  {
   "cell_type": "code",
   "execution_count": 18,
   "metadata": {},
   "outputs": [
    {
     "data": {
      "text/html": [
       "<div>\n",
       "<style scoped>\n",
       "    .dataframe tbody tr th:only-of-type {\n",
       "        vertical-align: middle;\n",
       "    }\n",
       "\n",
       "    .dataframe tbody tr th {\n",
       "        vertical-align: top;\n",
       "    }\n",
       "\n",
       "    .dataframe thead th {\n",
       "        text-align: right;\n",
       "    }\n",
       "</style>\n",
       "<table border=\"1\" class=\"dataframe\">\n",
       "  <thead>\n",
       "    <tr style=\"text-align: right;\">\n",
       "      <th></th>\n",
       "      <th>M1</th>\n",
       "      <th>M2</th>\n",
       "      <th>M3</th>\n",
       "      <th>M4</th>\n",
       "      <th>M5</th>\n",
       "      <th>M6</th>\n",
       "      <th>M7</th>\n",
       "      <th>M8</th>\n",
       "      <th>M9</th>\n",
       "      <th>M10</th>\n",
       "      <th>M11</th>\n",
       "      <th>M12</th>\n",
       "      <th>M13</th>\n",
       "      <th>M14</th>\n",
       "      <th>M15</th>\n",
       "      <th>M16</th>\n",
       "      <th>M17</th>\n",
       "      <th>M18</th>\n",
       "      <th>M19</th>\n",
       "      <th>M20</th>\n",
       "    </tr>\n",
       "  </thead>\n",
       "  <tbody>\n",
       "    <tr>\n",
       "      <th>CV_1</th>\n",
       "      <td>0.642857</td>\n",
       "      <td>0.642857</td>\n",
       "      <td>0.642857</td>\n",
       "      <td>0.642857</td>\n",
       "      <td>0.642857</td>\n",
       "      <td>0.642857</td>\n",
       "      <td>0.642857</td>\n",
       "      <td>0.642857</td>\n",
       "      <td>0.642857</td>\n",
       "      <td>0.642857</td>\n",
       "      <td>0.642857</td>\n",
       "      <td>0.642857</td>\n",
       "      <td>0.642857</td>\n",
       "      <td>0.642857</td>\n",
       "      <td>0.642857</td>\n",
       "      <td>0.642857</td>\n",
       "      <td>0.642857</td>\n",
       "      <td>0.642857</td>\n",
       "      <td>0.642857</td>\n",
       "      <td>0.642857</td>\n",
       "    </tr>\n",
       "    <tr>\n",
       "      <th>CV_2</th>\n",
       "      <td>0.571429</td>\n",
       "      <td>0.571429</td>\n",
       "      <td>0.642857</td>\n",
       "      <td>0.642857</td>\n",
       "      <td>0.571429</td>\n",
       "      <td>0.642857</td>\n",
       "      <td>0.785714</td>\n",
       "      <td>0.785714</td>\n",
       "      <td>0.785714</td>\n",
       "      <td>0.785714</td>\n",
       "      <td>0.571429</td>\n",
       "      <td>0.571429</td>\n",
       "      <td>0.571429</td>\n",
       "      <td>0.642857</td>\n",
       "      <td>0.642857</td>\n",
       "      <td>0.785714</td>\n",
       "      <td>0.785714</td>\n",
       "      <td>0.785714</td>\n",
       "      <td>0.785714</td>\n",
       "      <td>0.785714</td>\n",
       "    </tr>\n",
       "    <tr>\n",
       "      <th>CV_3</th>\n",
       "      <td>0.857143</td>\n",
       "      <td>0.857143</td>\n",
       "      <td>0.857143</td>\n",
       "      <td>0.857143</td>\n",
       "      <td>0.857143</td>\n",
       "      <td>0.857143</td>\n",
       "      <td>0.928571</td>\n",
       "      <td>0.928571</td>\n",
       "      <td>0.928571</td>\n",
       "      <td>0.928571</td>\n",
       "      <td>0.857143</td>\n",
       "      <td>0.857143</td>\n",
       "      <td>0.857143</td>\n",
       "      <td>0.857143</td>\n",
       "      <td>0.857143</td>\n",
       "      <td>0.928571</td>\n",
       "      <td>0.928571</td>\n",
       "      <td>0.928571</td>\n",
       "      <td>0.928571</td>\n",
       "      <td>0.928571</td>\n",
       "    </tr>\n",
       "    <tr>\n",
       "      <th>CV_4</th>\n",
       "      <td>0.928571</td>\n",
       "      <td>0.928571</td>\n",
       "      <td>0.928571</td>\n",
       "      <td>0.928571</td>\n",
       "      <td>0.928571</td>\n",
       "      <td>0.928571</td>\n",
       "      <td>0.928571</td>\n",
       "      <td>0.928571</td>\n",
       "      <td>0.928571</td>\n",
       "      <td>0.928571</td>\n",
       "      <td>0.928571</td>\n",
       "      <td>0.928571</td>\n",
       "      <td>0.928571</td>\n",
       "      <td>0.928571</td>\n",
       "      <td>0.928571</td>\n",
       "      <td>0.928571</td>\n",
       "      <td>0.928571</td>\n",
       "      <td>0.928571</td>\n",
       "      <td>0.928571</td>\n",
       "      <td>0.928571</td>\n",
       "    </tr>\n",
       "    <tr>\n",
       "      <th>CV_5</th>\n",
       "      <td>0.857143</td>\n",
       "      <td>0.857143</td>\n",
       "      <td>0.857143</td>\n",
       "      <td>0.857143</td>\n",
       "      <td>0.857143</td>\n",
       "      <td>0.857143</td>\n",
       "      <td>0.857143</td>\n",
       "      <td>0.857143</td>\n",
       "      <td>0.857143</td>\n",
       "      <td>0.857143</td>\n",
       "      <td>0.857143</td>\n",
       "      <td>0.857143</td>\n",
       "      <td>0.857143</td>\n",
       "      <td>0.857143</td>\n",
       "      <td>0.857143</td>\n",
       "      <td>0.857143</td>\n",
       "      <td>0.857143</td>\n",
       "      <td>0.857143</td>\n",
       "      <td>0.857143</td>\n",
       "      <td>0.857143</td>\n",
       "    </tr>\n",
       "    <tr>\n",
       "      <th>CV_6</th>\n",
       "      <td>0.785714</td>\n",
       "      <td>0.785714</td>\n",
       "      <td>0.785714</td>\n",
       "      <td>0.785714</td>\n",
       "      <td>0.785714</td>\n",
       "      <td>0.857143</td>\n",
       "      <td>0.928571</td>\n",
       "      <td>0.857143</td>\n",
       "      <td>0.857143</td>\n",
       "      <td>0.928571</td>\n",
       "      <td>0.785714</td>\n",
       "      <td>0.785714</td>\n",
       "      <td>0.785714</td>\n",
       "      <td>0.785714</td>\n",
       "      <td>0.785714</td>\n",
       "      <td>0.857143</td>\n",
       "      <td>0.785714</td>\n",
       "      <td>0.785714</td>\n",
       "      <td>0.785714</td>\n",
       "      <td>0.785714</td>\n",
       "    </tr>\n",
       "    <tr>\n",
       "      <th>CV_7</th>\n",
       "      <td>0.642857</td>\n",
       "      <td>0.714286</td>\n",
       "      <td>0.714286</td>\n",
       "      <td>0.642857</td>\n",
       "      <td>0.642857</td>\n",
       "      <td>0.714286</td>\n",
       "      <td>0.785714</td>\n",
       "      <td>0.785714</td>\n",
       "      <td>0.785714</td>\n",
       "      <td>0.785714</td>\n",
       "      <td>0.642857</td>\n",
       "      <td>0.642857</td>\n",
       "      <td>0.642857</td>\n",
       "      <td>0.714286</td>\n",
       "      <td>0.642857</td>\n",
       "      <td>0.785714</td>\n",
       "      <td>0.785714</td>\n",
       "      <td>0.785714</td>\n",
       "      <td>0.785714</td>\n",
       "      <td>0.785714</td>\n",
       "    </tr>\n",
       "    <tr>\n",
       "      <th>CV_8</th>\n",
       "      <td>0.857143</td>\n",
       "      <td>0.857143</td>\n",
       "      <td>0.857143</td>\n",
       "      <td>0.857143</td>\n",
       "      <td>0.857143</td>\n",
       "      <td>0.785714</td>\n",
       "      <td>0.928571</td>\n",
       "      <td>0.928571</td>\n",
       "      <td>0.857143</td>\n",
       "      <td>0.928571</td>\n",
       "      <td>0.857143</td>\n",
       "      <td>0.857143</td>\n",
       "      <td>0.857143</td>\n",
       "      <td>0.857143</td>\n",
       "      <td>0.857143</td>\n",
       "      <td>0.928571</td>\n",
       "      <td>0.928571</td>\n",
       "      <td>0.928571</td>\n",
       "      <td>0.928571</td>\n",
       "      <td>0.928571</td>\n",
       "    </tr>\n",
       "    <tr>\n",
       "      <th>CV_9</th>\n",
       "      <td>0.785714</td>\n",
       "      <td>0.785714</td>\n",
       "      <td>0.785714</td>\n",
       "      <td>0.785714</td>\n",
       "      <td>0.785714</td>\n",
       "      <td>0.785714</td>\n",
       "      <td>0.857143</td>\n",
       "      <td>0.857143</td>\n",
       "      <td>0.857143</td>\n",
       "      <td>0.857143</td>\n",
       "      <td>0.785714</td>\n",
       "      <td>0.785714</td>\n",
       "      <td>0.785714</td>\n",
       "      <td>0.785714</td>\n",
       "      <td>0.785714</td>\n",
       "      <td>0.785714</td>\n",
       "      <td>0.785714</td>\n",
       "      <td>0.785714</td>\n",
       "      <td>0.785714</td>\n",
       "      <td>0.785714</td>\n",
       "    </tr>\n",
       "    <tr>\n",
       "      <th>CV_10</th>\n",
       "      <td>0.714286</td>\n",
       "      <td>0.714286</td>\n",
       "      <td>0.714286</td>\n",
       "      <td>0.714286</td>\n",
       "      <td>0.714286</td>\n",
       "      <td>0.714286</td>\n",
       "      <td>0.785714</td>\n",
       "      <td>0.785714</td>\n",
       "      <td>0.714286</td>\n",
       "      <td>0.785714</td>\n",
       "      <td>0.714286</td>\n",
       "      <td>0.714286</td>\n",
       "      <td>0.714286</td>\n",
       "      <td>0.714286</td>\n",
       "      <td>0.714286</td>\n",
       "      <td>0.714286</td>\n",
       "      <td>0.714286</td>\n",
       "      <td>0.714286</td>\n",
       "      <td>0.714286</td>\n",
       "      <td>0.714286</td>\n",
       "    </tr>\n",
       "  </tbody>\n",
       "</table>\n",
       "</div>"
      ],
      "text/plain": [
       "             M1        M2        M3        M4        M5        M6        M7  \\\n",
       "CV_1   0.642857  0.642857  0.642857  0.642857  0.642857  0.642857  0.642857   \n",
       "CV_2   0.571429  0.571429  0.642857  0.642857  0.571429  0.642857  0.785714   \n",
       "CV_3   0.857143  0.857143  0.857143  0.857143  0.857143  0.857143  0.928571   \n",
       "CV_4   0.928571  0.928571  0.928571  0.928571  0.928571  0.928571  0.928571   \n",
       "CV_5   0.857143  0.857143  0.857143  0.857143  0.857143  0.857143  0.857143   \n",
       "CV_6   0.785714  0.785714  0.785714  0.785714  0.785714  0.857143  0.928571   \n",
       "CV_7   0.642857  0.714286  0.714286  0.642857  0.642857  0.714286  0.785714   \n",
       "CV_8   0.857143  0.857143  0.857143  0.857143  0.857143  0.785714  0.928571   \n",
       "CV_9   0.785714  0.785714  0.785714  0.785714  0.785714  0.785714  0.857143   \n",
       "CV_10  0.714286  0.714286  0.714286  0.714286  0.714286  0.714286  0.785714   \n",
       "\n",
       "             M8        M9       M10       M11       M12       M13       M14  \\\n",
       "CV_1   0.642857  0.642857  0.642857  0.642857  0.642857  0.642857  0.642857   \n",
       "CV_2   0.785714  0.785714  0.785714  0.571429  0.571429  0.571429  0.642857   \n",
       "CV_3   0.928571  0.928571  0.928571  0.857143  0.857143  0.857143  0.857143   \n",
       "CV_4   0.928571  0.928571  0.928571  0.928571  0.928571  0.928571  0.928571   \n",
       "CV_5   0.857143  0.857143  0.857143  0.857143  0.857143  0.857143  0.857143   \n",
       "CV_6   0.857143  0.857143  0.928571  0.785714  0.785714  0.785714  0.785714   \n",
       "CV_7   0.785714  0.785714  0.785714  0.642857  0.642857  0.642857  0.714286   \n",
       "CV_8   0.928571  0.857143  0.928571  0.857143  0.857143  0.857143  0.857143   \n",
       "CV_9   0.857143  0.857143  0.857143  0.785714  0.785714  0.785714  0.785714   \n",
       "CV_10  0.785714  0.714286  0.785714  0.714286  0.714286  0.714286  0.714286   \n",
       "\n",
       "            M15       M16       M17       M18       M19       M20  \n",
       "CV_1   0.642857  0.642857  0.642857  0.642857  0.642857  0.642857  \n",
       "CV_2   0.642857  0.785714  0.785714  0.785714  0.785714  0.785714  \n",
       "CV_3   0.857143  0.928571  0.928571  0.928571  0.928571  0.928571  \n",
       "CV_4   0.928571  0.928571  0.928571  0.928571  0.928571  0.928571  \n",
       "CV_5   0.857143  0.857143  0.857143  0.857143  0.857143  0.857143  \n",
       "CV_6   0.785714  0.857143  0.785714  0.785714  0.785714  0.785714  \n",
       "CV_7   0.642857  0.785714  0.785714  0.785714  0.785714  0.785714  \n",
       "CV_8   0.857143  0.928571  0.928571  0.928571  0.928571  0.928571  \n",
       "CV_9   0.785714  0.785714  0.785714  0.785714  0.785714  0.785714  \n",
       "CV_10  0.714286  0.714286  0.714286  0.714286  0.714286  0.714286  "
      ]
     },
     "execution_count": 18,
     "metadata": {},
     "output_type": "execute_result"
    }
   ],
   "source": [
    "df_scores"
   ]
  },
  {
   "cell_type": "code",
   "execution_count": 19,
   "metadata": {},
   "outputs": [
    {
     "data": {
      "text/html": [
       "<div>\n",
       "<style scoped>\n",
       "    .dataframe tbody tr th:only-of-type {\n",
       "        vertical-align: middle;\n",
       "    }\n",
       "\n",
       "    .dataframe tbody tr th {\n",
       "        vertical-align: top;\n",
       "    }\n",
       "\n",
       "    .dataframe thead th {\n",
       "        text-align: right;\n",
       "    }\n",
       "</style>\n",
       "<table border=\"1\" class=\"dataframe\">\n",
       "  <thead>\n",
       "    <tr style=\"text-align: right;\">\n",
       "      <th></th>\n",
       "      <th>M1</th>\n",
       "      <th>M2</th>\n",
       "      <th>M3</th>\n",
       "      <th>M4</th>\n",
       "      <th>M5</th>\n",
       "      <th>M6</th>\n",
       "      <th>M7</th>\n",
       "      <th>M8</th>\n",
       "      <th>M9</th>\n",
       "      <th>M10</th>\n",
       "      <th>M11</th>\n",
       "      <th>M12</th>\n",
       "      <th>M13</th>\n",
       "      <th>M14</th>\n",
       "      <th>M15</th>\n",
       "      <th>M16</th>\n",
       "      <th>M17</th>\n",
       "      <th>M18</th>\n",
       "      <th>M19</th>\n",
       "      <th>M20</th>\n",
       "    </tr>\n",
       "  </thead>\n",
       "  <tbody>\n",
       "    <tr>\n",
       "      <th>count</th>\n",
       "      <td>10.000000</td>\n",
       "      <td>10.000000</td>\n",
       "      <td>10.000000</td>\n",
       "      <td>10.000000</td>\n",
       "      <td>10.000000</td>\n",
       "      <td>10.000000</td>\n",
       "      <td>10.000000</td>\n",
       "      <td>10.000000</td>\n",
       "      <td>10.000000</td>\n",
       "      <td>10.000000</td>\n",
       "      <td>10.000000</td>\n",
       "      <td>10.000000</td>\n",
       "      <td>10.000000</td>\n",
       "      <td>10.000000</td>\n",
       "      <td>10.000000</td>\n",
       "      <td>10.000000</td>\n",
       "      <td>10.000000</td>\n",
       "      <td>10.000000</td>\n",
       "      <td>10.000000</td>\n",
       "      <td>10.000000</td>\n",
       "    </tr>\n",
       "    <tr>\n",
       "      <th>mean</th>\n",
       "      <td>0.764286</td>\n",
       "      <td>0.771429</td>\n",
       "      <td>0.778571</td>\n",
       "      <td>0.771429</td>\n",
       "      <td>0.764286</td>\n",
       "      <td>0.778571</td>\n",
       "      <td>0.842857</td>\n",
       "      <td>0.835714</td>\n",
       "      <td>0.821429</td>\n",
       "      <td>0.842857</td>\n",
       "      <td>0.764286</td>\n",
       "      <td>0.764286</td>\n",
       "      <td>0.764286</td>\n",
       "      <td>0.778571</td>\n",
       "      <td>0.771429</td>\n",
       "      <td>0.821429</td>\n",
       "      <td>0.814286</td>\n",
       "      <td>0.814286</td>\n",
       "      <td>0.814286</td>\n",
       "      <td>0.814286</td>\n",
       "    </tr>\n",
       "    <tr>\n",
       "      <th>std</th>\n",
       "      <td>0.116885</td>\n",
       "      <td>0.110657</td>\n",
       "      <td>0.097880</td>\n",
       "      <td>0.105409</td>\n",
       "      <td>0.116885</td>\n",
       "      <td>0.097880</td>\n",
       "      <td>0.094040</td>\n",
       "      <td>0.089405</td>\n",
       "      <td>0.090664</td>\n",
       "      <td>0.094040</td>\n",
       "      <td>0.116885</td>\n",
       "      <td>0.116885</td>\n",
       "      <td>0.116885</td>\n",
       "      <td>0.097880</td>\n",
       "      <td>0.105409</td>\n",
       "      <td>0.096715</td>\n",
       "      <td>0.096421</td>\n",
       "      <td>0.096421</td>\n",
       "      <td>0.096421</td>\n",
       "      <td>0.096421</td>\n",
       "    </tr>\n",
       "    <tr>\n",
       "      <th>min</th>\n",
       "      <td>0.571429</td>\n",
       "      <td>0.571429</td>\n",
       "      <td>0.642857</td>\n",
       "      <td>0.642857</td>\n",
       "      <td>0.571429</td>\n",
       "      <td>0.642857</td>\n",
       "      <td>0.642857</td>\n",
       "      <td>0.642857</td>\n",
       "      <td>0.642857</td>\n",
       "      <td>0.642857</td>\n",
       "      <td>0.571429</td>\n",
       "      <td>0.571429</td>\n",
       "      <td>0.571429</td>\n",
       "      <td>0.642857</td>\n",
       "      <td>0.642857</td>\n",
       "      <td>0.642857</td>\n",
       "      <td>0.642857</td>\n",
       "      <td>0.642857</td>\n",
       "      <td>0.642857</td>\n",
       "      <td>0.642857</td>\n",
       "    </tr>\n",
       "    <tr>\n",
       "      <th>25%</th>\n",
       "      <td>0.660714</td>\n",
       "      <td>0.714286</td>\n",
       "      <td>0.714286</td>\n",
       "      <td>0.660714</td>\n",
       "      <td>0.660714</td>\n",
       "      <td>0.714286</td>\n",
       "      <td>0.785714</td>\n",
       "      <td>0.785714</td>\n",
       "      <td>0.785714</td>\n",
       "      <td>0.785714</td>\n",
       "      <td>0.660714</td>\n",
       "      <td>0.660714</td>\n",
       "      <td>0.660714</td>\n",
       "      <td>0.714286</td>\n",
       "      <td>0.660714</td>\n",
       "      <td>0.785714</td>\n",
       "      <td>0.785714</td>\n",
       "      <td>0.785714</td>\n",
       "      <td>0.785714</td>\n",
       "      <td>0.785714</td>\n",
       "    </tr>\n",
       "    <tr>\n",
       "      <th>50%</th>\n",
       "      <td>0.785714</td>\n",
       "      <td>0.785714</td>\n",
       "      <td>0.785714</td>\n",
       "      <td>0.785714</td>\n",
       "      <td>0.785714</td>\n",
       "      <td>0.785714</td>\n",
       "      <td>0.857143</td>\n",
       "      <td>0.857143</td>\n",
       "      <td>0.857143</td>\n",
       "      <td>0.857143</td>\n",
       "      <td>0.785714</td>\n",
       "      <td>0.785714</td>\n",
       "      <td>0.785714</td>\n",
       "      <td>0.785714</td>\n",
       "      <td>0.785714</td>\n",
       "      <td>0.821429</td>\n",
       "      <td>0.785714</td>\n",
       "      <td>0.785714</td>\n",
       "      <td>0.785714</td>\n",
       "      <td>0.785714</td>\n",
       "    </tr>\n",
       "    <tr>\n",
       "      <th>75%</th>\n",
       "      <td>0.857143</td>\n",
       "      <td>0.857143</td>\n",
       "      <td>0.857143</td>\n",
       "      <td>0.857143</td>\n",
       "      <td>0.857143</td>\n",
       "      <td>0.857143</td>\n",
       "      <td>0.928571</td>\n",
       "      <td>0.910714</td>\n",
       "      <td>0.857143</td>\n",
       "      <td>0.928571</td>\n",
       "      <td>0.857143</td>\n",
       "      <td>0.857143</td>\n",
       "      <td>0.857143</td>\n",
       "      <td>0.857143</td>\n",
       "      <td>0.857143</td>\n",
       "      <td>0.910714</td>\n",
       "      <td>0.910714</td>\n",
       "      <td>0.910714</td>\n",
       "      <td>0.910714</td>\n",
       "      <td>0.910714</td>\n",
       "    </tr>\n",
       "    <tr>\n",
       "      <th>max</th>\n",
       "      <td>0.928571</td>\n",
       "      <td>0.928571</td>\n",
       "      <td>0.928571</td>\n",
       "      <td>0.928571</td>\n",
       "      <td>0.928571</td>\n",
       "      <td>0.928571</td>\n",
       "      <td>0.928571</td>\n",
       "      <td>0.928571</td>\n",
       "      <td>0.928571</td>\n",
       "      <td>0.928571</td>\n",
       "      <td>0.928571</td>\n",
       "      <td>0.928571</td>\n",
       "      <td>0.928571</td>\n",
       "      <td>0.928571</td>\n",
       "      <td>0.928571</td>\n",
       "      <td>0.928571</td>\n",
       "      <td>0.928571</td>\n",
       "      <td>0.928571</td>\n",
       "      <td>0.928571</td>\n",
       "      <td>0.928571</td>\n",
       "    </tr>\n",
       "  </tbody>\n",
       "</table>\n",
       "</div>"
      ],
      "text/plain": [
       "              M1         M2         M3         M4         M5         M6  \\\n",
       "count  10.000000  10.000000  10.000000  10.000000  10.000000  10.000000   \n",
       "mean    0.764286   0.771429   0.778571   0.771429   0.764286   0.778571   \n",
       "std     0.116885   0.110657   0.097880   0.105409   0.116885   0.097880   \n",
       "min     0.571429   0.571429   0.642857   0.642857   0.571429   0.642857   \n",
       "25%     0.660714   0.714286   0.714286   0.660714   0.660714   0.714286   \n",
       "50%     0.785714   0.785714   0.785714   0.785714   0.785714   0.785714   \n",
       "75%     0.857143   0.857143   0.857143   0.857143   0.857143   0.857143   \n",
       "max     0.928571   0.928571   0.928571   0.928571   0.928571   0.928571   \n",
       "\n",
       "              M7         M8         M9        M10        M11        M12  \\\n",
       "count  10.000000  10.000000  10.000000  10.000000  10.000000  10.000000   \n",
       "mean    0.842857   0.835714   0.821429   0.842857   0.764286   0.764286   \n",
       "std     0.094040   0.089405   0.090664   0.094040   0.116885   0.116885   \n",
       "min     0.642857   0.642857   0.642857   0.642857   0.571429   0.571429   \n",
       "25%     0.785714   0.785714   0.785714   0.785714   0.660714   0.660714   \n",
       "50%     0.857143   0.857143   0.857143   0.857143   0.785714   0.785714   \n",
       "75%     0.928571   0.910714   0.857143   0.928571   0.857143   0.857143   \n",
       "max     0.928571   0.928571   0.928571   0.928571   0.928571   0.928571   \n",
       "\n",
       "             M13        M14        M15        M16        M17        M18  \\\n",
       "count  10.000000  10.000000  10.000000  10.000000  10.000000  10.000000   \n",
       "mean    0.764286   0.778571   0.771429   0.821429   0.814286   0.814286   \n",
       "std     0.116885   0.097880   0.105409   0.096715   0.096421   0.096421   \n",
       "min     0.571429   0.642857   0.642857   0.642857   0.642857   0.642857   \n",
       "25%     0.660714   0.714286   0.660714   0.785714   0.785714   0.785714   \n",
       "50%     0.785714   0.785714   0.785714   0.821429   0.785714   0.785714   \n",
       "75%     0.857143   0.857143   0.857143   0.910714   0.910714   0.910714   \n",
       "max     0.928571   0.928571   0.928571   0.928571   0.928571   0.928571   \n",
       "\n",
       "             M19        M20  \n",
       "count  10.000000  10.000000  \n",
       "mean    0.814286   0.814286  \n",
       "std     0.096421   0.096421  \n",
       "min     0.642857   0.642857  \n",
       "25%     0.785714   0.785714  \n",
       "50%     0.785714   0.785714  \n",
       "75%     0.910714   0.910714  \n",
       "max     0.928571   0.928571  "
      ]
     },
     "execution_count": 19,
     "metadata": {},
     "output_type": "execute_result"
    }
   ],
   "source": [
    "df_scores.describe()"
   ]
  },
  {
   "cell_type": "code",
   "execution_count": 20,
   "metadata": {},
   "outputs": [
    {
     "data": {
      "text/plain": [
       "(0.5, 1.05)"
      ]
     },
     "execution_count": 20,
     "metadata": {},
     "output_type": "execute_result"
    },
    {
     "data": {
      "text/plain": [
       "<Figure size 1800x1200 with 0 Axes>"
      ]
     },
     "metadata": {},
     "output_type": "display_data"
    },
    {
     "data": {
      "image/png": "[encoded data removed]",
      "text/plain": [
       "<Figure size 648x324 with 1 Axes>"
      ]
     },
     "metadata": {
      "needs_background": "light"
     },
     "output_type": "display_data"
    }
   ],
   "source": [
    "fig1 = plt.figure(dpi=300)\n",
    "\n",
    "sns.catplot(kind=\"box\",data=df_scores, height=4.5, aspect=2, palette='Set1')\n",
    "\n",
    "plt.xlabel('ANN model',labelpad=10,fontsize=15)\n",
    "plt.ylabel('Accuracy',labelpad=10,fontsize=15)\n",
    "plt.ylim(0.5, 1.05)"
   ]
  },
  {
   "cell_type": "markdown",
   "metadata": {},
   "source": [
    "### Saving Model"
   ]
  },
  {
   "cell_type": "code",
   "execution_count": 21,
   "metadata": {},
   "outputs": [
    {
     "data": {
      "text/plain": [
       "['./Model_ANN_FC2/ANN_best_model.pkl']"
      ]
     },
     "execution_count": 21,
     "metadata": {},
     "output_type": "execute_result"
    }
   ],
   "source": [
    "# saving best model\n",
    "\n",
    "joblib.dump(GS_ANN.best_estimator_,'./Model_ANN_FC2/ANN_best_model.pkl')"
   ]
  },
  {
   "cell_type": "code",
   "execution_count": 22,
   "metadata": {},
   "outputs": [
    {
     "data": {
      "text/plain": [
       "['./Model_ANN_FC2/df_scores.pkl']"
      ]
     },
     "execution_count": 22,
     "metadata": {},
     "output_type": "execute_result"
    }
   ],
   "source": [
    "# saving results\n",
    "\n",
    "joblib.dump(df_scores,'./Model_ANN_FC2/df_scores.pkl')"
   ]
  },
  {
   "cell_type": "code",
   "execution_count": 23,
   "metadata": {},
   "outputs": [],
   "source": [
    "#saving figure\n",
    "\n",
    "#fig1.savefig('./Model_ANN_FC2/fig_ANN')"
   ]
  },
  {
   "cell_type": "markdown",
   "metadata": {},
   "source": [
    "### Independent Test"
   ]
  },
  {
   "cell_type": "code",
   "execution_count": 24,
   "metadata": {},
   "outputs": [],
   "source": [
    "from sklearn.metrics import accuracy_score, auc, classification_report, confusion_matrix"
   ]
  },
  {
   "cell_type": "code",
   "execution_count": 25,
   "metadata": {},
   "outputs": [],
   "source": [
    "ANN_best = GS_ANN.best_estimator_"
   ]
  },
  {
   "cell_type": "code",
   "execution_count": 26,
   "metadata": {},
   "outputs": [],
   "source": [
    "y_pred = ANN_best.predict(X_test)"
   ]
  },
  {
   "cell_type": "code",
   "execution_count": 27,
   "metadata": {
    "scrolled": true
   },
   "outputs": [
    {
     "name": "stdout",
     "output_type": "stream",
     "text": [
      "              precision    recall  f1-score   support\n",
      "\n",
      "           0       1.00      0.81      0.89        21\n",
      "           1       0.84      1.00      0.91        21\n",
      "\n",
      "    accuracy                           0.90        42\n",
      "   macro avg       0.92      0.90      0.90        42\n",
      "weighted avg       0.92      0.90      0.90        42\n",
      "\n"
     ]
    }
   ],
   "source": [
    "print(classification_report(y_Test,y_pred))"
   ]
  },
  {
   "cell_type": "code",
   "execution_count": 28,
   "metadata": {},
   "outputs": [
    {
     "data": {
      "text/plain": [
       "'Accuracy = 0.9047619047619048'"
      ]
     },
     "metadata": {},
     "output_type": "display_data"
    },
    {
     "data": {
      "text/plain": [
       "'Sensitivity = 1.0'"
      ]
     },
     "metadata": {},
     "output_type": "display_data"
    },
    {
     "data": {
      "text/plain": [
       "'Specificity = 0.8095238095238095'"
      ]
     },
     "metadata": {},
     "output_type": "display_data"
    }
   ],
   "source": [
    "tn, fp, fn, tp = confusion_matrix(y_Test,y_pred).ravel()\n",
    "display('Accuracy = {}'.format((tp+tn)/(tp+tn+fp+fn)))\n",
    "display('Sensitivity = {}'.format(tp/(tp+fn)))\n",
    "display('Specificity = {}'.format(tn/(tn+fp)))"
   ]
  }
 ],
 "metadata": {
  "kernelspec": {
   "display_name": "Python 3",
   "language": "python",
   "name": "python3"
  },
  "language_info": {
   "codemirror_mode": {
    "name": "ipython",
    "version": 3
   },
   "file_extension": ".py",
   "mimetype": "text/x-python",
   "name": "python",
   "nbconvert_exporter": "python",
   "pygments_lexer": "ipython3",
   "version": "3.7.9"
  }
 },
 "nbformat": 4,
 "nbformat_minor": 4
}

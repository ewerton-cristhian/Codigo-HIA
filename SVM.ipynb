{
 "cells": [
  {
   "cell_type": "markdown",
   "metadata": {},
   "source": [
    "# Model Selection of SVM in Intestinal Absortion Prediction\n",
    "\n",
    "This section presents the model selection of Support  Vector Machine in Intestinal Absortition Prediction."
   ]
  },
  {
   "cell_type": "code",
   "execution_count": 1,
   "metadata": {},
   "outputs": [],
   "source": [
    "import pandas as pd\n",
    "import numpy as np\n",
    "import seaborn as sns\n",
    "import matplotlib.pyplot as plt\n",
    "\n",
    "%matplotlib inline"
   ]
  },
  {
   "cell_type": "code",
   "execution_count": 2,
   "metadata": {},
   "outputs": [],
   "source": [
    "from sklearn.model_selection import train_test_split\n",
    "from sklearn.preprocessing import MinMaxScaler, StandardScaler\n",
    "import joblib"
   ]
  },
  {
   "cell_type": "code",
   "execution_count": 3,
   "metadata": {},
   "outputs": [],
   "source": [
    "from sklearn.svm import SVC\n",
    "from sklearn.model_selection import GridSearchCV "
   ]
  },
  {
   "cell_type": "markdown",
   "metadata": {},
   "source": [
    "### Importing Dataset for training\n",
    "\n",
    "\n",
    "- FC-1: NHA, LogP, MolWt, NAR, NRB, tPSA, NHD, fcSP3\n",
    "- FC-2: NHA, LogP, tPSA"
   ]
  },
  {
   "cell_type": "code",
   "execution_count": 4,
   "metadata": {},
   "outputs": [],
   "source": [
    "#Data_Train = joblib.load('./Dataset_Training_Test/Data_Train.pkl')\n",
    "\n",
    "Data = pd.read_excel('dataset_HIA_geral.xlsx')"
   ]
  },
  {
   "cell_type": "code",
   "execution_count": 5,
   "metadata": {},
   "outputs": [],
   "source": [
    "FC = 1\n",
    "\n",
    "if FC == 1:\n",
    "    X_Train = Data.drop(['Name','SMILES','Output'], axis=1)[0:140].values\n",
    "    X_Test = Data.drop(['Name','SMILES','Output'], axis=1)[140:].values\n",
    "    \n",
    "else:\n",
    "    X_Train = Data[['WLOGP','tPSA','NHA']][0:140].values #,'NHA'\n",
    "    X_Test = Data[['WLOGP','tPSA','NHA']][140:].values\n",
    "    \n",
    "\n",
    "y_Train = Data[['Output']][0:140].values.ravel()\n",
    "y_Test = Data[['Output']][140:].values.ravel()"
   ]
  },
  {
   "cell_type": "code",
   "execution_count": 6,
   "metadata": {},
   "outputs": [],
   "source": [
    "# Scaling data\n",
    "\n",
    "Scaler = MinMaxScaler().fit(X_Train)\n",
    "\n",
    "X_train = Scaler.transform(X_Train)  \n",
    "X_test = Scaler.transform(X_Test)  \n"
   ]
  },
  {
   "cell_type": "code",
   "execution_count": 7,
   "metadata": {},
   "outputs": [
    {
     "data": {
      "text/plain": [
       "['./Model_SVM_FC2/scaler.pkl']"
      ]
     },
     "execution_count": 7,
     "metadata": {},
     "output_type": "execute_result"
    }
   ],
   "source": [
    "joblib.dump(Scaler,'./Model_SVM_FC2/scaler.pkl')"
   ]
  },
  {
   "cell_type": "markdown",
   "metadata": {},
   "source": [
    "### Creating and Training Model"
   ]
  },
  {
   "cell_type": "code",
   "execution_count": 8,
   "metadata": {},
   "outputs": [],
   "source": [
    "# parameters of ANN models\n",
    "\n",
    "param_grid = [{'kernel': ['rbf','sigmoid'], 'C': [500, 1000, 2000, 5000],'gamma': [0.1, 0.5, 1, 2]}]\n"
   ]
  },
  {
   "cell_type": "code",
   "execution_count": 9,
   "metadata": {},
   "outputs": [],
   "source": [
    "# Cross Validation\n",
    "\n",
    "SVM = SVC(random_state=0, max_iter=20000, probability=True)\n",
    "\n",
    "\n",
    "GS = GridSearchCV(SVM, param_grid, cv=10, scoring='accuracy',return_train_score=True, n_jobs=-1)"
   ]
  },
  {
   "cell_type": "code",
   "execution_count": 10,
   "metadata": {},
   "outputs": [
    {
     "data": {
      "text/plain": [
       "GridSearchCV(cv=10,\n",
       "             estimator=SVC(max_iter=20000, probability=True, random_state=0),\n",
       "             n_jobs=-1,\n",
       "             param_grid=[{'C': [500, 1000, 2000, 5000],\n",
       "                          'gamma': [0.1, 0.5, 1, 2],\n",
       "                          'kernel': ['rbf', 'sigmoid']}],\n",
       "             return_train_score=True, scoring='accuracy')"
      ]
     },
     "execution_count": 10,
     "metadata": {},
     "output_type": "execute_result"
    }
   ],
   "source": [
    "GS.fit(X_train, y_Train)"
   ]
  },
  {
   "cell_type": "code",
   "execution_count": 11,
   "metadata": {},
   "outputs": [
    {
     "data": {
      "text/plain": [
       "['./Model_SVM_FC2/GridSearch_SVM.pkl']"
      ]
     },
     "execution_count": 11,
     "metadata": {},
     "output_type": "execute_result"
    }
   ],
   "source": [
    "# saving grid search\n",
    "\n",
    "joblib.dump(GS,'./Model_SVM_FC2/GridSearch_SVM.pkl')"
   ]
  },
  {
   "cell_type": "markdown",
   "metadata": {},
   "source": [
    "### Evaluating and Selecting Model"
   ]
  },
  {
   "cell_type": "code",
   "execution_count": 12,
   "metadata": {},
   "outputs": [],
   "source": [
    "# loading grid search\n",
    "\n",
    "GS_SVM= joblib.load('./Model_SVM_FC2/GridSearch_SVM.pkl')"
   ]
  },
  {
   "cell_type": "code",
   "execution_count": 13,
   "metadata": {},
   "outputs": [
    {
     "data": {
      "text/plain": [
       "SVC(C=500, gamma=1, max_iter=20000, probability=True, random_state=0)"
      ]
     },
     "execution_count": 13,
     "metadata": {},
     "output_type": "execute_result"
    }
   ],
   "source": [
    "# best estimator\n",
    "\n",
    "GS_SVM.best_estimator_"
   ]
  },
  {
   "cell_type": "code",
   "execution_count": 14,
   "metadata": {},
   "outputs": [
    {
     "name": "stdout",
     "output_type": "stream",
     "text": [
      "Best Index = 5\n"
     ]
    }
   ],
   "source": [
    "# index of best model\n",
    "\n",
    "print('Best Index = {}'.format(GS_SVM.best_index_+1))"
   ]
  },
  {
   "cell_type": "code",
   "execution_count": 15,
   "metadata": {},
   "outputs": [
    {
     "data": {
      "text/plain": [
       "{'C': 500, 'gamma': 1, 'kernel': 'rbf'}"
      ]
     },
     "execution_count": 15,
     "metadata": {},
     "output_type": "execute_result"
    }
   ],
   "source": [
    "# best parameters\n",
    "\n",
    "GS_SVM.best_params_"
   ]
  },
  {
   "cell_type": "code",
   "execution_count": 16,
   "metadata": {},
   "outputs": [
    {
     "name": "stdout",
     "output_type": "stream",
     "text": [
      "SVM Evaluation\n",
      "M1: 0.821429 +- 0.07986 {'C': 500, 'gamma': 0.1, 'kernel': 'rbf'}\n",
      "M2: 0.835714 +- 0.090633 {'C': 500, 'gamma': 0.1, 'kernel': 'sigmoid'}\n",
      "M3: 0.885714 +- 0.057143 {'C': 500, 'gamma': 0.5, 'kernel': 'rbf'}\n",
      "M4: 0.742857 +- 0.128571 {'C': 500, 'gamma': 0.5, 'kernel': 'sigmoid'}\n",
      "M5: 0.914286 +- 0.069985 {'C': 500, 'gamma': 1, 'kernel': 'rbf'}\n",
      "M6: 0.692857 +- 0.101267 {'C': 500, 'gamma': 1, 'kernel': 'sigmoid'}\n",
      "M7: 0.85 +- 0.08719 {'C': 500, 'gamma': 2, 'kernel': 'rbf'}\n",
      "M8: 0.578571 +- 0.12956 {'C': 500, 'gamma': 2, 'kernel': 'sigmoid'}\n",
      "M9: 0.835714 +- 0.071785 {'C': 1000, 'gamma': 0.1, 'kernel': 'rbf'}\n",
      "M10: 0.828571 +- 0.072843 {'C': 1000, 'gamma': 0.1, 'kernel': 'sigmoid'}\n",
      "M11: 0.885714 +- 0.079539 {'C': 1000, 'gamma': 0.5, 'kernel': 'rbf'}\n",
      "M12: 0.764286 +- 0.084817 {'C': 1000, 'gamma': 0.5, 'kernel': 'sigmoid'}\n",
      "M13: 0.864286 +- 0.108091 {'C': 1000, 'gamma': 1, 'kernel': 'rbf'}\n",
      "M14: 0.728571 +- 0.1 {'C': 1000, 'gamma': 1, 'kernel': 'sigmoid'}\n",
      "M15: 0.85 +- 0.081127 {'C': 1000, 'gamma': 2, 'kernel': 'rbf'}\n",
      "M16: 0.578571 +- 0.12956 {'C': 1000, 'gamma': 2, 'kernel': 'sigmoid'}\n",
      "M17: 0.835714 +- 0.071785 {'C': 2000, 'gamma': 0.1, 'kernel': 'rbf'}\n",
      "M18: 0.835714 +- 0.078571 {'C': 2000, 'gamma': 0.1, 'kernel': 'sigmoid'}\n",
      "M19: 0.914286 +- 0.069985 {'C': 2000, 'gamma': 0.5, 'kernel': 'rbf'}\n",
      "M20: 0.757143 +- 0.085714 {'C': 2000, 'gamma': 0.5, 'kernel': 'sigmoid'}\n",
      "M21: 0.85 +- 0.098198 {'C': 2000, 'gamma': 1, 'kernel': 'rbf'}\n",
      "M22: 0.714286 +- 0.115175 {'C': 2000, 'gamma': 1, 'kernel': 'sigmoid'}\n",
      "M23: 0.821429 +- 0.116277 {'C': 2000, 'gamma': 2, 'kernel': 'rbf'}\n",
      "M24: 0.578571 +- 0.12956 {'C': 2000, 'gamma': 2, 'kernel': 'sigmoid'}\n",
      "M25: 0.85 +- 0.081127 {'C': 5000, 'gamma': 0.1, 'kernel': 'rbf'}\n",
      "M26: 0.814286 +- 0.091473 {'C': 5000, 'gamma': 0.1, 'kernel': 'sigmoid'}\n",
      "M27: 0.878571 +- 0.084817 {'C': 5000, 'gamma': 0.5, 'kernel': 'rbf'}\n",
      "M28: 0.757143 +- 0.085714 {'C': 5000, 'gamma': 0.5, 'kernel': 'sigmoid'}\n",
      "M29: 0.835714 +- 0.071785 {'C': 5000, 'gamma': 1, 'kernel': 'rbf'}\n",
      "M30: 0.7 +- 0.104978 {'C': 5000, 'gamma': 1, 'kernel': 'sigmoid'}\n",
      "M31: 0.807143 +- 0.110887 {'C': 5000, 'gamma': 2, 'kernel': 'rbf'}\n",
      "M32: 0.578571 +- 0.12956 {'C': 5000, 'gamma': 2, 'kernel': 'sigmoid'}\n"
     ]
    }
   ],
   "source": [
    "# scores by model\n",
    "\n",
    "cvres = GS_SVM.cv_results_\n",
    "\n",
    "print('SVM Evaluation')\n",
    "k=1\n",
    "for mean_score, standard, params in zip(cvres[\"mean_test_score\"], cvres[\"std_test_score\"], cvres[\"params\"]):\n",
    "    print('M{}:'.format(k), round(mean_score,6), '+- {}'.format(round(standard,6)), params)\n",
    "    k=k+1"
   ]
  },
  {
   "cell_type": "code",
   "execution_count": 17,
   "metadata": {},
   "outputs": [],
   "source": [
    "# All the CV scores by each Feaature Composition\n",
    "\n",
    "Nmodels = len(GS_SVM.cv_results_[\"params\"])\n",
    "\n",
    "col_scr=[]\n",
    "row_scr=[]\n",
    "\n",
    "for k in range(10):\n",
    "    col_scr.insert(k,'CV_{}'.format(k+1))\n",
    "    \n",
    "    \n",
    "for j in range(Nmodels):\n",
    "    row_scr.insert(j,'M{}'.format(j+1))\n",
    "\n",
    "    \n",
    "df_scores=[]    \n",
    "for k in range(10):\n",
    "\n",
    "    cvres = GS_SVM.cv_results_\n",
    "    score_valid=np.concatenate((cvres['split0_test_score'].reshape(Nmodels,1),\n",
    "                            cvres['split1_test_score'].reshape(Nmodels,1),\n",
    "                            cvres['split2_test_score'].reshape(Nmodels,1),\n",
    "                            cvres['split3_test_score'].reshape(Nmodels,1),\n",
    "                            cvres['split4_test_score'].reshape(Nmodels,1),\n",
    "                            cvres['split5_test_score'].reshape(Nmodels,1),\n",
    "                            cvres['split6_test_score'].reshape(Nmodels,1),\n",
    "                            cvres['split7_test_score'].reshape(Nmodels,1),\n",
    "                            cvres['split8_test_score'].reshape(Nmodels,1),\n",
    "                            cvres['split9_test_score'].reshape(Nmodels,1)),axis=1) \n",
    "    df_scores = pd.DataFrame(data=score_valid,index=row_scr,columns=col_scr).transpose()"
   ]
  },
  {
   "cell_type": "code",
   "execution_count": 18,
   "metadata": {},
   "outputs": [
    {
     "data": {
      "text/html": [
       "<div>\n",
       "<style scoped>\n",
       "    .dataframe tbody tr th:only-of-type {\n",
       "        vertical-align: middle;\n",
       "    }\n",
       "\n",
       "    .dataframe tbody tr th {\n",
       "        vertical-align: top;\n",
       "    }\n",
       "\n",
       "    .dataframe thead th {\n",
       "        text-align: right;\n",
       "    }\n",
       "</style>\n",
       "<table border=\"1\" class=\"dataframe\">\n",
       "  <thead>\n",
       "    <tr style=\"text-align: right;\">\n",
       "      <th></th>\n",
       "      <th>M1</th>\n",
       "      <th>M2</th>\n",
       "      <th>M3</th>\n",
       "      <th>M4</th>\n",
       "      <th>M5</th>\n",
       "      <th>M6</th>\n",
       "      <th>M7</th>\n",
       "      <th>M8</th>\n",
       "      <th>M9</th>\n",
       "      <th>M10</th>\n",
       "      <th>...</th>\n",
       "      <th>M23</th>\n",
       "      <th>M24</th>\n",
       "      <th>M25</th>\n",
       "      <th>M26</th>\n",
       "      <th>M27</th>\n",
       "      <th>M28</th>\n",
       "      <th>M29</th>\n",
       "      <th>M30</th>\n",
       "      <th>M31</th>\n",
       "      <th>M32</th>\n",
       "    </tr>\n",
       "  </thead>\n",
       "  <tbody>\n",
       "    <tr>\n",
       "      <th>CV_1</th>\n",
       "      <td>0.857143</td>\n",
       "      <td>0.857143</td>\n",
       "      <td>0.928571</td>\n",
       "      <td>0.714286</td>\n",
       "      <td>1.000000</td>\n",
       "      <td>0.642857</td>\n",
       "      <td>0.857143</td>\n",
       "      <td>0.500000</td>\n",
       "      <td>0.857143</td>\n",
       "      <td>0.857143</td>\n",
       "      <td>...</td>\n",
       "      <td>0.857143</td>\n",
       "      <td>0.500000</td>\n",
       "      <td>0.857143</td>\n",
       "      <td>0.785714</td>\n",
       "      <td>1.000000</td>\n",
       "      <td>0.714286</td>\n",
       "      <td>0.857143</td>\n",
       "      <td>0.714286</td>\n",
       "      <td>0.714286</td>\n",
       "      <td>0.500000</td>\n",
       "    </tr>\n",
       "    <tr>\n",
       "      <th>CV_2</th>\n",
       "      <td>0.714286</td>\n",
       "      <td>0.714286</td>\n",
       "      <td>0.928571</td>\n",
       "      <td>0.642857</td>\n",
       "      <td>0.928571</td>\n",
       "      <td>0.500000</td>\n",
       "      <td>0.642857</td>\n",
       "      <td>0.500000</td>\n",
       "      <td>0.857143</td>\n",
       "      <td>0.785714</td>\n",
       "      <td>...</td>\n",
       "      <td>0.571429</td>\n",
       "      <td>0.500000</td>\n",
       "      <td>0.857143</td>\n",
       "      <td>0.714286</td>\n",
       "      <td>0.714286</td>\n",
       "      <td>0.642857</td>\n",
       "      <td>0.714286</td>\n",
       "      <td>0.500000</td>\n",
       "      <td>0.571429</td>\n",
       "      <td>0.500000</td>\n",
       "    </tr>\n",
       "    <tr>\n",
       "      <th>CV_3</th>\n",
       "      <td>0.857143</td>\n",
       "      <td>0.857143</td>\n",
       "      <td>0.928571</td>\n",
       "      <td>0.857143</td>\n",
       "      <td>1.000000</td>\n",
       "      <td>0.857143</td>\n",
       "      <td>0.928571</td>\n",
       "      <td>0.642857</td>\n",
       "      <td>0.857143</td>\n",
       "      <td>0.857143</td>\n",
       "      <td>...</td>\n",
       "      <td>0.928571</td>\n",
       "      <td>0.642857</td>\n",
       "      <td>0.857143</td>\n",
       "      <td>0.857143</td>\n",
       "      <td>1.000000</td>\n",
       "      <td>0.857143</td>\n",
       "      <td>0.928571</td>\n",
       "      <td>0.857143</td>\n",
       "      <td>0.928571</td>\n",
       "      <td>0.642857</td>\n",
       "    </tr>\n",
       "    <tr>\n",
       "      <th>CV_4</th>\n",
       "      <td>0.857143</td>\n",
       "      <td>0.857143</td>\n",
       "      <td>0.928571</td>\n",
       "      <td>0.857143</td>\n",
       "      <td>0.928571</td>\n",
       "      <td>0.785714</td>\n",
       "      <td>0.928571</td>\n",
       "      <td>0.785714</td>\n",
       "      <td>0.857143</td>\n",
       "      <td>0.928571</td>\n",
       "      <td>...</td>\n",
       "      <td>0.928571</td>\n",
       "      <td>0.785714</td>\n",
       "      <td>0.928571</td>\n",
       "      <td>0.928571</td>\n",
       "      <td>0.928571</td>\n",
       "      <td>0.785714</td>\n",
       "      <td>0.928571</td>\n",
       "      <td>0.714286</td>\n",
       "      <td>0.928571</td>\n",
       "      <td>0.785714</td>\n",
       "    </tr>\n",
       "    <tr>\n",
       "      <th>CV_5</th>\n",
       "      <td>0.857143</td>\n",
       "      <td>0.928571</td>\n",
       "      <td>0.857143</td>\n",
       "      <td>0.785714</td>\n",
       "      <td>0.857143</td>\n",
       "      <td>0.785714</td>\n",
       "      <td>0.857143</td>\n",
       "      <td>0.785714</td>\n",
       "      <td>0.857143</td>\n",
       "      <td>0.857143</td>\n",
       "      <td>...</td>\n",
       "      <td>0.857143</td>\n",
       "      <td>0.785714</td>\n",
       "      <td>0.928571</td>\n",
       "      <td>0.857143</td>\n",
       "      <td>0.857143</td>\n",
       "      <td>0.785714</td>\n",
       "      <td>0.857143</td>\n",
       "      <td>0.857143</td>\n",
       "      <td>0.857143</td>\n",
       "      <td>0.785714</td>\n",
       "    </tr>\n",
       "    <tr>\n",
       "      <th>CV_6</th>\n",
       "      <td>0.857143</td>\n",
       "      <td>0.928571</td>\n",
       "      <td>0.928571</td>\n",
       "      <td>0.500000</td>\n",
       "      <td>1.000000</td>\n",
       "      <td>0.642857</td>\n",
       "      <td>0.928571</td>\n",
       "      <td>0.571429</td>\n",
       "      <td>0.857143</td>\n",
       "      <td>0.857143</td>\n",
       "      <td>...</td>\n",
       "      <td>0.928571</td>\n",
       "      <td>0.571429</td>\n",
       "      <td>0.857143</td>\n",
       "      <td>0.928571</td>\n",
       "      <td>0.928571</td>\n",
       "      <td>0.785714</td>\n",
       "      <td>0.857143</td>\n",
       "      <td>0.642857</td>\n",
       "      <td>0.928571</td>\n",
       "      <td>0.571429</td>\n",
       "    </tr>\n",
       "    <tr>\n",
       "      <th>CV_7</th>\n",
       "      <td>0.785714</td>\n",
       "      <td>0.785714</td>\n",
       "      <td>0.785714</td>\n",
       "      <td>0.642857</td>\n",
       "      <td>0.857143</td>\n",
       "      <td>0.714286</td>\n",
       "      <td>0.928571</td>\n",
       "      <td>0.357143</td>\n",
       "      <td>0.785714</td>\n",
       "      <td>0.785714</td>\n",
       "      <td>...</td>\n",
       "      <td>0.857143</td>\n",
       "      <td>0.357143</td>\n",
       "      <td>0.785714</td>\n",
       "      <td>0.714286</td>\n",
       "      <td>0.785714</td>\n",
       "      <td>0.642857</td>\n",
       "      <td>0.857143</td>\n",
       "      <td>0.714286</td>\n",
       "      <td>0.785714</td>\n",
       "      <td>0.357143</td>\n",
       "    </tr>\n",
       "    <tr>\n",
       "      <th>CV_8</th>\n",
       "      <td>0.928571</td>\n",
       "      <td>0.928571</td>\n",
       "      <td>0.928571</td>\n",
       "      <td>0.928571</td>\n",
       "      <td>0.928571</td>\n",
       "      <td>0.714286</td>\n",
       "      <td>0.785714</td>\n",
       "      <td>0.642857</td>\n",
       "      <td>0.928571</td>\n",
       "      <td>0.857143</td>\n",
       "      <td>...</td>\n",
       "      <td>0.642857</td>\n",
       "      <td>0.642857</td>\n",
       "      <td>0.928571</td>\n",
       "      <td>0.857143</td>\n",
       "      <td>0.857143</td>\n",
       "      <td>0.857143</td>\n",
       "      <td>0.785714</td>\n",
       "      <td>0.714286</td>\n",
       "      <td>0.714286</td>\n",
       "      <td>0.642857</td>\n",
       "    </tr>\n",
       "    <tr>\n",
       "      <th>CV_9</th>\n",
       "      <td>0.857143</td>\n",
       "      <td>0.857143</td>\n",
       "      <td>0.857143</td>\n",
       "      <td>0.857143</td>\n",
       "      <td>0.857143</td>\n",
       "      <td>0.714286</td>\n",
       "      <td>0.857143</td>\n",
       "      <td>0.500000</td>\n",
       "      <td>0.857143</td>\n",
       "      <td>0.857143</td>\n",
       "      <td>...</td>\n",
       "      <td>0.857143</td>\n",
       "      <td>0.500000</td>\n",
       "      <td>0.857143</td>\n",
       "      <td>0.857143</td>\n",
       "      <td>0.857143</td>\n",
       "      <td>0.857143</td>\n",
       "      <td>0.857143</td>\n",
       "      <td>0.714286</td>\n",
       "      <td>0.857143</td>\n",
       "      <td>0.500000</td>\n",
       "    </tr>\n",
       "    <tr>\n",
       "      <th>CV_10</th>\n",
       "      <td>0.642857</td>\n",
       "      <td>0.642857</td>\n",
       "      <td>0.785714</td>\n",
       "      <td>0.642857</td>\n",
       "      <td>0.785714</td>\n",
       "      <td>0.571429</td>\n",
       "      <td>0.785714</td>\n",
       "      <td>0.500000</td>\n",
       "      <td>0.642857</td>\n",
       "      <td>0.642857</td>\n",
       "      <td>...</td>\n",
       "      <td>0.785714</td>\n",
       "      <td>0.500000</td>\n",
       "      <td>0.642857</td>\n",
       "      <td>0.642857</td>\n",
       "      <td>0.857143</td>\n",
       "      <td>0.642857</td>\n",
       "      <td>0.714286</td>\n",
       "      <td>0.571429</td>\n",
       "      <td>0.785714</td>\n",
       "      <td>0.500000</td>\n",
       "    </tr>\n",
       "  </tbody>\n",
       "</table>\n",
       "<p>10 rows × 32 columns</p>\n",
       "</div>"
      ],
      "text/plain": [
       "             M1        M2        M3        M4        M5        M6        M7  \\\n",
       "CV_1   0.857143  0.857143  0.928571  0.714286  1.000000  0.642857  0.857143   \n",
       "CV_2   0.714286  0.714286  0.928571  0.642857  0.928571  0.500000  0.642857   \n",
       "CV_3   0.857143  0.857143  0.928571  0.857143  1.000000  0.857143  0.928571   \n",
       "CV_4   0.857143  0.857143  0.928571  0.857143  0.928571  0.785714  0.928571   \n",
       "CV_5   0.857143  0.928571  0.857143  0.785714  0.857143  0.785714  0.857143   \n",
       "CV_6   0.857143  0.928571  0.928571  0.500000  1.000000  0.642857  0.928571   \n",
       "CV_7   0.785714  0.785714  0.785714  0.642857  0.857143  0.714286  0.928571   \n",
       "CV_8   0.928571  0.928571  0.928571  0.928571  0.928571  0.714286  0.785714   \n",
       "CV_9   0.857143  0.857143  0.857143  0.857143  0.857143  0.714286  0.857143   \n",
       "CV_10  0.642857  0.642857  0.785714  0.642857  0.785714  0.571429  0.785714   \n",
       "\n",
       "             M8        M9       M10  ...       M23       M24       M25  \\\n",
       "CV_1   0.500000  0.857143  0.857143  ...  0.857143  0.500000  0.857143   \n",
       "CV_2   0.500000  0.857143  0.785714  ...  0.571429  0.500000  0.857143   \n",
       "CV_3   0.642857  0.857143  0.857143  ...  0.928571  0.642857  0.857143   \n",
       "CV_4   0.785714  0.857143  0.928571  ...  0.928571  0.785714  0.928571   \n",
       "CV_5   0.785714  0.857143  0.857143  ...  0.857143  0.785714  0.928571   \n",
       "CV_6   0.571429  0.857143  0.857143  ...  0.928571  0.571429  0.857143   \n",
       "CV_7   0.357143  0.785714  0.785714  ...  0.857143  0.357143  0.785714   \n",
       "CV_8   0.642857  0.928571  0.857143  ...  0.642857  0.642857  0.928571   \n",
       "CV_9   0.500000  0.857143  0.857143  ...  0.857143  0.500000  0.857143   \n",
       "CV_10  0.500000  0.642857  0.642857  ...  0.785714  0.500000  0.642857   \n",
       "\n",
       "            M26       M27       M28       M29       M30       M31       M32  \n",
       "CV_1   0.785714  1.000000  0.714286  0.857143  0.714286  0.714286  0.500000  \n",
       "CV_2   0.714286  0.714286  0.642857  0.714286  0.500000  0.571429  0.500000  \n",
       "CV_3   0.857143  1.000000  0.857143  0.928571  0.857143  0.928571  0.642857  \n",
       "CV_4   0.928571  0.928571  0.785714  0.928571  0.714286  0.928571  0.785714  \n",
       "CV_5   0.857143  0.857143  0.785714  0.857143  0.857143  0.857143  0.785714  \n",
       "CV_6   0.928571  0.928571  0.785714  0.857143  0.642857  0.928571  0.571429  \n",
       "CV_7   0.714286  0.785714  0.642857  0.857143  0.714286  0.785714  0.357143  \n",
       "CV_8   0.857143  0.857143  0.857143  0.785714  0.714286  0.714286  0.642857  \n",
       "CV_9   0.857143  0.857143  0.857143  0.857143  0.714286  0.857143  0.500000  \n",
       "CV_10  0.642857  0.857143  0.642857  0.714286  0.571429  0.785714  0.500000  \n",
       "\n",
       "[10 rows x 32 columns]"
      ]
     },
     "execution_count": 18,
     "metadata": {},
     "output_type": "execute_result"
    }
   ],
   "source": [
    "df_scores"
   ]
  },
  {
   "cell_type": "code",
   "execution_count": 19,
   "metadata": {},
   "outputs": [
    {
     "data": {
      "text/html": [
       "<div>\n",
       "<style scoped>\n",
       "    .dataframe tbody tr th:only-of-type {\n",
       "        vertical-align: middle;\n",
       "    }\n",
       "\n",
       "    .dataframe tbody tr th {\n",
       "        vertical-align: top;\n",
       "    }\n",
       "\n",
       "    .dataframe thead th {\n",
       "        text-align: right;\n",
       "    }\n",
       "</style>\n",
       "<table border=\"1\" class=\"dataframe\">\n",
       "  <thead>\n",
       "    <tr style=\"text-align: right;\">\n",
       "      <th></th>\n",
       "      <th>M1</th>\n",
       "      <th>M2</th>\n",
       "      <th>M3</th>\n",
       "      <th>M4</th>\n",
       "      <th>M5</th>\n",
       "      <th>M6</th>\n",
       "      <th>M7</th>\n",
       "      <th>M8</th>\n",
       "      <th>M9</th>\n",
       "      <th>M10</th>\n",
       "      <th>...</th>\n",
       "      <th>M23</th>\n",
       "      <th>M24</th>\n",
       "      <th>M25</th>\n",
       "      <th>M26</th>\n",
       "      <th>M27</th>\n",
       "      <th>M28</th>\n",
       "      <th>M29</th>\n",
       "      <th>M30</th>\n",
       "      <th>M31</th>\n",
       "      <th>M32</th>\n",
       "    </tr>\n",
       "  </thead>\n",
       "  <tbody>\n",
       "    <tr>\n",
       "      <th>count</th>\n",
       "      <td>10.000000</td>\n",
       "      <td>10.000000</td>\n",
       "      <td>10.000000</td>\n",
       "      <td>10.000000</td>\n",
       "      <td>10.000000</td>\n",
       "      <td>10.000000</td>\n",
       "      <td>10.000000</td>\n",
       "      <td>10.000000</td>\n",
       "      <td>10.000000</td>\n",
       "      <td>10.000000</td>\n",
       "      <td>...</td>\n",
       "      <td>10.000000</td>\n",
       "      <td>10.000000</td>\n",
       "      <td>10.000000</td>\n",
       "      <td>10.000000</td>\n",
       "      <td>10.000000</td>\n",
       "      <td>10.000000</td>\n",
       "      <td>10.000000</td>\n",
       "      <td>10.000000</td>\n",
       "      <td>10.000000</td>\n",
       "      <td>10.000000</td>\n",
       "    </tr>\n",
       "    <tr>\n",
       "      <th>mean</th>\n",
       "      <td>0.821429</td>\n",
       "      <td>0.835714</td>\n",
       "      <td>0.885714</td>\n",
       "      <td>0.742857</td>\n",
       "      <td>0.914286</td>\n",
       "      <td>0.692857</td>\n",
       "      <td>0.850000</td>\n",
       "      <td>0.578571</td>\n",
       "      <td>0.835714</td>\n",
       "      <td>0.828571</td>\n",
       "      <td>...</td>\n",
       "      <td>0.821429</td>\n",
       "      <td>0.578571</td>\n",
       "      <td>0.850000</td>\n",
       "      <td>0.814286</td>\n",
       "      <td>0.878571</td>\n",
       "      <td>0.757143</td>\n",
       "      <td>0.835714</td>\n",
       "      <td>0.700000</td>\n",
       "      <td>0.807143</td>\n",
       "      <td>0.578571</td>\n",
       "    </tr>\n",
       "    <tr>\n",
       "      <th>std</th>\n",
       "      <td>0.084179</td>\n",
       "      <td>0.095535</td>\n",
       "      <td>0.060234</td>\n",
       "      <td>0.135526</td>\n",
       "      <td>0.073771</td>\n",
       "      <td>0.106745</td>\n",
       "      <td>0.091906</td>\n",
       "      <td>0.136568</td>\n",
       "      <td>0.075668</td>\n",
       "      <td>0.076783</td>\n",
       "      <td>...</td>\n",
       "      <td>0.122567</td>\n",
       "      <td>0.136568</td>\n",
       "      <td>0.085516</td>\n",
       "      <td>0.096421</td>\n",
       "      <td>0.089405</td>\n",
       "      <td>0.090351</td>\n",
       "      <td>0.075668</td>\n",
       "      <td>0.110657</td>\n",
       "      <td>0.116885</td>\n",
       "      <td>0.136568</td>\n",
       "    </tr>\n",
       "    <tr>\n",
       "      <th>min</th>\n",
       "      <td>0.642857</td>\n",
       "      <td>0.642857</td>\n",
       "      <td>0.785714</td>\n",
       "      <td>0.500000</td>\n",
       "      <td>0.785714</td>\n",
       "      <td>0.500000</td>\n",
       "      <td>0.642857</td>\n",
       "      <td>0.357143</td>\n",
       "      <td>0.642857</td>\n",
       "      <td>0.642857</td>\n",
       "      <td>...</td>\n",
       "      <td>0.571429</td>\n",
       "      <td>0.357143</td>\n",
       "      <td>0.642857</td>\n",
       "      <td>0.642857</td>\n",
       "      <td>0.714286</td>\n",
       "      <td>0.642857</td>\n",
       "      <td>0.714286</td>\n",
       "      <td>0.500000</td>\n",
       "      <td>0.571429</td>\n",
       "      <td>0.357143</td>\n",
       "    </tr>\n",
       "    <tr>\n",
       "      <th>25%</th>\n",
       "      <td>0.803571</td>\n",
       "      <td>0.803571</td>\n",
       "      <td>0.857143</td>\n",
       "      <td>0.642857</td>\n",
       "      <td>0.857143</td>\n",
       "      <td>0.642857</td>\n",
       "      <td>0.803571</td>\n",
       "      <td>0.500000</td>\n",
       "      <td>0.857143</td>\n",
       "      <td>0.803571</td>\n",
       "      <td>...</td>\n",
       "      <td>0.803571</td>\n",
       "      <td>0.500000</td>\n",
       "      <td>0.857143</td>\n",
       "      <td>0.732143</td>\n",
       "      <td>0.857143</td>\n",
       "      <td>0.660714</td>\n",
       "      <td>0.803571</td>\n",
       "      <td>0.660714</td>\n",
       "      <td>0.732143</td>\n",
       "      <td>0.500000</td>\n",
       "    </tr>\n",
       "    <tr>\n",
       "      <th>50%</th>\n",
       "      <td>0.857143</td>\n",
       "      <td>0.857143</td>\n",
       "      <td>0.928571</td>\n",
       "      <td>0.750000</td>\n",
       "      <td>0.928571</td>\n",
       "      <td>0.714286</td>\n",
       "      <td>0.857143</td>\n",
       "      <td>0.535714</td>\n",
       "      <td>0.857143</td>\n",
       "      <td>0.857143</td>\n",
       "      <td>...</td>\n",
       "      <td>0.857143</td>\n",
       "      <td>0.535714</td>\n",
       "      <td>0.857143</td>\n",
       "      <td>0.857143</td>\n",
       "      <td>0.857143</td>\n",
       "      <td>0.785714</td>\n",
       "      <td>0.857143</td>\n",
       "      <td>0.714286</td>\n",
       "      <td>0.821429</td>\n",
       "      <td>0.535714</td>\n",
       "    </tr>\n",
       "    <tr>\n",
       "      <th>75%</th>\n",
       "      <td>0.857143</td>\n",
       "      <td>0.910714</td>\n",
       "      <td>0.928571</td>\n",
       "      <td>0.857143</td>\n",
       "      <td>0.982143</td>\n",
       "      <td>0.767857</td>\n",
       "      <td>0.928571</td>\n",
       "      <td>0.642857</td>\n",
       "      <td>0.857143</td>\n",
       "      <td>0.857143</td>\n",
       "      <td>...</td>\n",
       "      <td>0.910714</td>\n",
       "      <td>0.642857</td>\n",
       "      <td>0.910714</td>\n",
       "      <td>0.857143</td>\n",
       "      <td>0.928571</td>\n",
       "      <td>0.839286</td>\n",
       "      <td>0.857143</td>\n",
       "      <td>0.714286</td>\n",
       "      <td>0.910714</td>\n",
       "      <td>0.642857</td>\n",
       "    </tr>\n",
       "    <tr>\n",
       "      <th>max</th>\n",
       "      <td>0.928571</td>\n",
       "      <td>0.928571</td>\n",
       "      <td>0.928571</td>\n",
       "      <td>0.928571</td>\n",
       "      <td>1.000000</td>\n",
       "      <td>0.857143</td>\n",
       "      <td>0.928571</td>\n",
       "      <td>0.785714</td>\n",
       "      <td>0.928571</td>\n",
       "      <td>0.928571</td>\n",
       "      <td>...</td>\n",
       "      <td>0.928571</td>\n",
       "      <td>0.785714</td>\n",
       "      <td>0.928571</td>\n",
       "      <td>0.928571</td>\n",
       "      <td>1.000000</td>\n",
       "      <td>0.857143</td>\n",
       "      <td>0.928571</td>\n",
       "      <td>0.857143</td>\n",
       "      <td>0.928571</td>\n",
       "      <td>0.785714</td>\n",
       "    </tr>\n",
       "  </tbody>\n",
       "</table>\n",
       "<p>8 rows × 32 columns</p>\n",
       "</div>"
      ],
      "text/plain": [
       "              M1         M2         M3         M4         M5         M6  \\\n",
       "count  10.000000  10.000000  10.000000  10.000000  10.000000  10.000000   \n",
       "mean    0.821429   0.835714   0.885714   0.742857   0.914286   0.692857   \n",
       "std     0.084179   0.095535   0.060234   0.135526   0.073771   0.106745   \n",
       "min     0.642857   0.642857   0.785714   0.500000   0.785714   0.500000   \n",
       "25%     0.803571   0.803571   0.857143   0.642857   0.857143   0.642857   \n",
       "50%     0.857143   0.857143   0.928571   0.750000   0.928571   0.714286   \n",
       "75%     0.857143   0.910714   0.928571   0.857143   0.982143   0.767857   \n",
       "max     0.928571   0.928571   0.928571   0.928571   1.000000   0.857143   \n",
       "\n",
       "              M7         M8         M9        M10  ...        M23        M24  \\\n",
       "count  10.000000  10.000000  10.000000  10.000000  ...  10.000000  10.000000   \n",
       "mean    0.850000   0.578571   0.835714   0.828571  ...   0.821429   0.578571   \n",
       "std     0.091906   0.136568   0.075668   0.076783  ...   0.122567   0.136568   \n",
       "min     0.642857   0.357143   0.642857   0.642857  ...   0.571429   0.357143   \n",
       "25%     0.803571   0.500000   0.857143   0.803571  ...   0.803571   0.500000   \n",
       "50%     0.857143   0.535714   0.857143   0.857143  ...   0.857143   0.535714   \n",
       "75%     0.928571   0.642857   0.857143   0.857143  ...   0.910714   0.642857   \n",
       "max     0.928571   0.785714   0.928571   0.928571  ...   0.928571   0.785714   \n",
       "\n",
       "             M25        M26        M27        M28        M29        M30  \\\n",
       "count  10.000000  10.000000  10.000000  10.000000  10.000000  10.000000   \n",
       "mean    0.850000   0.814286   0.878571   0.757143   0.835714   0.700000   \n",
       "std     0.085516   0.096421   0.089405   0.090351   0.075668   0.110657   \n",
       "min     0.642857   0.642857   0.714286   0.642857   0.714286   0.500000   \n",
       "25%     0.857143   0.732143   0.857143   0.660714   0.803571   0.660714   \n",
       "50%     0.857143   0.857143   0.857143   0.785714   0.857143   0.714286   \n",
       "75%     0.910714   0.857143   0.928571   0.839286   0.857143   0.714286   \n",
       "max     0.928571   0.928571   1.000000   0.857143   0.928571   0.857143   \n",
       "\n",
       "             M31        M32  \n",
       "count  10.000000  10.000000  \n",
       "mean    0.807143   0.578571  \n",
       "std     0.116885   0.136568  \n",
       "min     0.571429   0.357143  \n",
       "25%     0.732143   0.500000  \n",
       "50%     0.821429   0.535714  \n",
       "75%     0.910714   0.642857  \n",
       "max     0.928571   0.785714  \n",
       "\n",
       "[8 rows x 32 columns]"
      ]
     },
     "execution_count": 19,
     "metadata": {},
     "output_type": "execute_result"
    }
   ],
   "source": [
    "df_scores.describe()"
   ]
  },
  {
   "cell_type": "code",
   "execution_count": 20,
   "metadata": {},
   "outputs": [
    {
     "data": {
      "text/plain": [
       "(0.5, 1.05)"
      ]
     },
     "execution_count": 20,
     "metadata": {},
     "output_type": "execute_result"
    },
    {
     "data": {
      "text/plain": [
       "<Figure size 1800x1200 with 0 Axes>"
      ]
     },
     "metadata": {},
     "output_type": "display_data"
    },
    {
     "data": {
      "image/png": "[encoded data removed]",
      "text/plain": [
       "<Figure size 648x324 with 1 Axes>"
      ]
     },
     "metadata": {
      "needs_background": "light"
     },
     "output_type": "display_data"
    }
   ],
   "source": [
    "fig1 = plt.figure(dpi=300)\n",
    "\n",
    "sns.catplot(kind=\"box\",data=df_scores, height=4.5, aspect=2, palette='Set1')\n",
    "\n",
    "plt.xlabel('SVM model',labelpad=10,fontsize=15)\n",
    "plt.ylabel('Accuracy',labelpad=10,fontsize=15)\n",
    "plt.ylim(0.5, 1.05)"
   ]
  },
  {
   "cell_type": "markdown",
   "metadata": {},
   "source": [
    "### Saving Model"
   ]
  },
  {
   "cell_type": "code",
   "execution_count": 21,
   "metadata": {},
   "outputs": [
    {
     "data": {
      "text/plain": [
       "['./Model_SVM_FC2/SVM_best_model.pkl']"
      ]
     },
     "execution_count": 21,
     "metadata": {},
     "output_type": "execute_result"
    }
   ],
   "source": [
    "# saving best model\n",
    "\n",
    "joblib.dump(GS_SVM.best_estimator_,'./Model_SVM_FC2/SVM_best_model.pkl')"
   ]
  },
  {
   "cell_type": "code",
   "execution_count": 22,
   "metadata": {},
   "outputs": [
    {
     "data": {
      "text/plain": [
       "['./Model_SVM_FC2/df_scores.pkl']"
      ]
     },
     "execution_count": 22,
     "metadata": {},
     "output_type": "execute_result"
    }
   ],
   "source": [
    "# saving results\n",
    "\n",
    "joblib.dump(df_scores,'./Model_SVM_FC2/df_scores.pkl')"
   ]
  },
  {
   "cell_type": "code",
   "execution_count": 23,
   "metadata": {},
   "outputs": [],
   "source": [
    "#saving figure\n",
    "\n",
    "#fig1.savefig('./Model_SVM_FC2/fig1_SVM')"
   ]
  },
  {
   "cell_type": "markdown",
   "metadata": {},
   "source": [
    "### Independent Test"
   ]
  },
  {
   "cell_type": "code",
   "execution_count": 24,
   "metadata": {},
   "outputs": [],
   "source": [
    "from sklearn.metrics import accuracy_score, auc, classification_report, confusion_matrix"
   ]
  },
  {
   "cell_type": "code",
   "execution_count": 25,
   "metadata": {},
   "outputs": [],
   "source": [
    "SVM_best = GS_SVM.best_estimator_"
   ]
  },
  {
   "cell_type": "code",
   "execution_count": 26,
   "metadata": {},
   "outputs": [],
   "source": [
    "y_pred = SVM_best.predict(X_test)"
   ]
  },
  {
   "cell_type": "code",
   "execution_count": 27,
   "metadata": {
    "scrolled": true
   },
   "outputs": [
    {
     "name": "stdout",
     "output_type": "stream",
     "text": [
      "              precision    recall  f1-score   support\n",
      "\n",
      "           0       0.88      0.71      0.79        21\n",
      "           1       0.76      0.90      0.83        21\n",
      "\n",
      "    accuracy                           0.81        42\n",
      "   macro avg       0.82      0.81      0.81        42\n",
      "weighted avg       0.82      0.81      0.81        42\n",
      "\n"
     ]
    }
   ],
   "source": [
    "print(classification_report(y_Test,y_pred))"
   ]
  },
  {
   "cell_type": "code",
   "execution_count": 28,
   "metadata": {},
   "outputs": [
    {
     "data": {
      "text/plain": [
       "'Accuracy = 0.8095238095238095'"
      ]
     },
     "metadata": {},
     "output_type": "display_data"
    },
    {
     "data": {
      "text/plain": [
       "'Sensitivity = 0.9047619047619048'"
      ]
     },
     "metadata": {},
     "output_type": "display_data"
    },
    {
     "data": {
      "text/plain": [
       "'Specificity = 0.7142857142857143'"
      ]
     },
     "metadata": {},
     "output_type": "display_data"
    }
   ],
   "source": [
    "tn, fp, fn, tp = confusion_matrix(y_Test,y_pred).ravel()\n",
    "display('Accuracy = {}'.format((tp+tn)/(tp+tn+fp+fn)))\n",
    "display('Sensitivity = {}'.format(tp/(tp+fn)))\n",
    "display('Specificity = {}'.format(tn/(tn+fp)))"
   ]
  }
 ],
 "metadata": {
  "kernelspec": {
   "display_name": "Python 3",
   "language": "python",
   "name": "python3"
  },
  "language_info": {
   "codemirror_mode": {
    "name": "ipython",
    "version": 3
   },
   "file_extension": ".py",
   "mimetype": "text/x-python",
   "name": "python",
   "nbconvert_exporter": "python",
   "pygments_lexer": "ipython3",
   "version": "3.7.9"
  }
 },
 "nbformat": 4,
 "nbformat_minor": 4
}
